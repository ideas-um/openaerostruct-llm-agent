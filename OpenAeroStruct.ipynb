{
 "cells": [
  {
   "cell_type": "markdown",
   "metadata": {},
   "source": [
    "### LLM OpenAeroStruct"
   ]
  },
  {
   "cell_type": "markdown",
   "metadata": {},
   "source": [
    "#### A multiagent tool to write optimization code for OpenAeroStruct with simply high level inputs from the user, i.e. I want to design a sweeped rectangular wing with elliptical lift distribution"
   ]
  },
  {
   "cell_type": "code",
   "execution_count": 1,
   "metadata": {},
   "outputs": [],
   "source": [
    "# Import the generative ai library\n",
    "import google.generativeai as genai #type: ignore\n",
    "\n",
    "# Import all the modules necessary to run OpenAeroStruct\n",
    "import re\n",
    "import time\n",
    "import os\n",
    "import warnings\n",
    "import numpy as np\n",
    "import pandas as pd #type: ignore\n",
    "import openmdao.api as om\n",
    "import json\n",
    "\n",
    "# import OpenAeroStruct modules\n",
    "from openaerostruct.geometry.utils import generate_mesh  # helper functions to generate mesh\n",
    "from openaerostruct.geometry.geometry_group import Geometry\n",
    "from openaerostruct.aerodynamics.aero_groups import AeroPoint\n",
    "\n",
    "# Import the plotting libraries\n",
    "import matplotlib.pyplot as plt\n",
    "import plotly.graph_objects as go\n",
    "import niceplots  # Optional but recommended\n",
    "\n",
    "#Ignore warnings and use the nice plots style\n",
    "warnings.filterwarnings(\"ignore\")\n",
    "\n",
    "plt.style.use(\n",
    "    niceplots.get_style(\"james-dark\")\n",
    ")  # Options: \"doumont-light\", \"doumont-dark\", \"james-light\", \"james-dark\""
   ]
  },
  {
   "cell_type": "code",
   "execution_count": 2,
   "metadata": {},
   "outputs": [],
   "source": [
    "#Import the relevant agents\n",
    "from Agents import ReformulatorAgent\n",
    "from Agents import BaseMeshAgent\n",
    "from Agents import GeometryAgent\n",
    "from Agents import OptimizerAgent"
   ]
  },
  {
   "cell_type": "code",
   "execution_count": 3,
   "metadata": {},
   "outputs": [],
   "source": [
    "# Define the initial sample query from the user.\n",
    "User_Request  = \"\"\"For this design, we will keep the area constant at S = 400 m2. The span is b = 60 m. The cruise condition corresponds to CL = 0.5. Your job is to minimize drag at the condition of CL = 0.5 and you have complete freedom in the taper and sweep of the wing. Make a plot of the elliptical lift distribution.\"\"\"\n",
    "\n",
    "reformulator = ReformulatorAgent()\n",
    "reformulator_output = reformulator.execute_task(User_Request)"
   ]
  },
  {
   "cell_type": "code",
   "execution_count": 4,
   "metadata": {},
   "outputs": [
    {
     "name": "stdout",
     "output_type": "stream",
     "text": [
      "Reformulator Output:\n",
      "{'objective_function': 'Minimize drag', 'trim_condition': 'CL = 0.5', 'geometric_constraint': 'Wing area (S) = 400 m^2, Span (b) = 60 m', 'design_variables': 'Taper, Sweep', 'baseline_wing_mesh': 'rect', 'optimization_algorithm': 'SLSQP', 'plotting_requirements': 'Plot of the elliptical lift distribution', 'errors': 'None'}\n"
     ]
    }
   ],
   "source": [
    "print(\"Reformulator Output:\")\n",
    "print(reformulator_output)"
   ]
  },
  {
   "cell_type": "markdown",
   "metadata": {},
   "source": [
    "#### Now start writing the file into RunOAS to prepare for the optimization and plotting script using LLM."
   ]
  },
  {
   "cell_type": "code",
   "execution_count": 5,
   "metadata": {},
   "outputs": [],
   "source": [
    "#Write the mesh prompt\n",
    "\n",
    "MeshPrompt  = f\"\"\"For this wing desgin, the geometric parameters are as follows: {reformulator_output[\"geometric_constraint\"]}, and the type of the wing mesh should be: {reformulator_output[\"baseline_wing_mesh\"]}\"\"\"\n",
    "\n",
    "mesher = BaseMeshAgent()\n",
    "mesher_output = mesher.execute_task(MeshPrompt)"
   ]
  },
  {
   "cell_type": "code",
   "execution_count": 6,
   "metadata": {},
   "outputs": [
    {
     "name": "stdout",
     "output_type": "stream",
     "text": [
      "mesh_dict = {\n",
      "    \"num_y\": 19, #number of panels in the y direction, 19 is a good starting number\n",
      "    \"num_x\": 3, #number of panels in the x direction, 3 is a good starting number\n",
      "    \"wing_type\": \"rect\", #This can either be \"rect\" or \"crm\" only\n",
      "    \"symmetry\": True, # True if the wing is symmetric, False if it is not, wings are typically symmetric\n",
      "    \"span\": 60.0, #This is the full span of the wing in meters\n",
      "    \"root_chord\": 6.666666666666667, #This is the root chord of the wing in meters\n",
      "    \"span_cos_spacing\": 0.0, #This is usually not edited\n",
      "    \"chord_cos_spacing\": 0.0, #This is usually not edited\n",
      "}\n",
      "\n",
      "# Generate VLM mesh for half-wing\n",
      "mesh = generate_mesh(mesh_dict)   # this creates a rectangular wing mesh, do not edit\n",
      "\n",
      "# plot mesh\n",
      "plot_mesh(mesh) # this plots the rectangular wing mesh, do not edit\n",
      "{'calculations_and_explain': \"The problem requires generating OpenAeroStruct mesh code for a rectangular wing with a specified wing area (S) of 400 m^2 and a span (b) of 60 m. The wing type is 'rect'.  I need to calculate the root chord using the formula: root_chord = area / span = 400 / 60 = 6.666666666666667. The number of panels in x and y direction are kept same as the example.\", 'python_code': 'mesh_dict = {\\n    \"num_y\": 19, #number of panels in the y direction, 19 is a good starting number\\n    \"num_x\": 3, #number of panels in the x direction, 3 is a good starting number\\n    \"wing_type\": \"rect\", #This can either be \"rect\" or \"crm\" only\\n    \"symmetry\": True, # True if the wing is symmetric, False if it is not, wings are typically symmetric\\n    \"span\": 60.0, #This is the full span of the wing in meters\\n    \"root_chord\": 6.666666666666667, #This is the root chord of the wing in meters\\n    \"span_cos_spacing\": 0.0, #This is usually not edited\\n    \"chord_cos_spacing\": 0.0, #This is usually not edited\\n}\\n\\n# Generate VLM mesh for half-wing\\nmesh = generate_mesh(mesh_dict)   # this creates a rectangular wing mesh, do not edit\\n\\n# plot mesh\\nplot_mesh(mesh) # this plots the rectangular wing mesh, do not edit'}\n"
     ]
    }
   ],
   "source": [
    "print(mesher_output[\"python_code\"])\n",
    "print(mesher_output)"
   ]
  },
  {
   "cell_type": "code",
   "execution_count": 7,
   "metadata": {},
   "outputs": [],
   "source": [
    "#Geometry Setup\n",
    "GeometryPrompt  = f\"\"\"For this wing desgin, we are allowed to change the following parameters: {reformulator_output[\"design_variables\"]}\"\"\"\n",
    "\n",
    "geometry_setup = GeometryAgent()\n",
    "geometry_output = geometry_setup.execute_task(GeometryPrompt)"
   ]
  },
  {
   "cell_type": "code",
   "execution_count": 8,
   "metadata": {},
   "outputs": [
    {
     "name": "stdout",
     "output_type": "stream",
     "text": [
      "surface = {\n",
      "    # Wing definition, KEEP THE SAME UNLESS ASKED TO CHANGE\n",
      "    \"name\": \"wing\",  # name of the surface, keep as wing\n",
      "    \"symmetry\": True,  # if true, model one half of wing reflected across the plane y = 0\n",
      "    \"S_ref_type\": \"wetted\",  # how we compute the wing area, can be 'wetted' or 'projected'\n",
      "    \"mesh\": mesh,\n",
      "\n",
      "    # Aerodynamic performance of the lifting surface at an angle of attack of 0 (alpha=0).\n",
      "    # These CL0 and CD0 values are added to the CL and CD obtained from aerodynamic analysis of the surface to get the total CL and CD.\n",
      "    # These CL0 and CD0 values do not vary wrt alpha. DO NOT EDIT THEM UNLESS ASKED TO.\n",
      "    \"CL0\": 0.0,  # CL of the surface at alpha=0\n",
      "    \"CD0\": 0.0,  # CD of the surface at alpha=0\n",
      "\n",
      "    # Airfoil properties for viscous drag calculation, DO NOT CHANGE UNLESS ASKED TO\n",
      "    \"k_lam\": 0.05,  # percentage of chord with laminar flow, used for viscous drag\n",
      "    \"c_max_t\": 0.303,  # chordwise location of maximum (NACA0015)\n",
      "    \"t_over_c_cp\": np.array([0.12]),  # thickness-to-chord ratio\n",
      "\n",
      "    # DO NOT CHANGE UNLESS ASKED TO, type of analysis, wave for high mach number, viscous to model viscous drag\n",
      "    \"with_viscous\": True,  # if true, compute viscous drag,\n",
      "    \"with_wave\": False,\n",
      "\n",
      "    # Useful options for changing the wing geometry, CHANGE THESE\n",
      "    #\"chord_cp\": np.ones(3),  # if chord cp is allowed to be optimized, uncomment this line and change the value for how many points for the bspline to change the chord, default is 3\n",
      "    \"taper\" : 0.4, # if the wing can be tapered, uncomment this line and change the initial value for how much taper, default is 0.4\n",
      "    \"sweep\" : 28.0, # if the wing can be swept, uncomment this line and change the initial value for how much sweep, default is 28.0\n",
      "    #\"twist_cp\" : np.zeros(2),  # if the wing can be twisted, uncomment this line and change the value for how many points for the bspline to change the twist, default is 4\n",
      "}  # end of surface dictionary\n",
      "{'calculations_and_explain': 'The user wants to allow the variables taper and sweep to be optimized. According to the code sample, to do this, I need to uncomment the lines \"#\"taper\" : 0.4,\" and \"#\"sweep\" : 28.0,\".', 'python_code': 'surface = {\\n    # Wing definition, KEEP THE SAME UNLESS ASKED TO CHANGE\\n    \"name\": \"wing\",  # name of the surface, keep as wing\\n    \"symmetry\": True,  # if true, model one half of wing reflected across the plane y = 0\\n    \"S_ref_type\": \"wetted\",  # how we compute the wing area, can be \\'wetted\\' or \\'projected\\'\\n    \"mesh\": mesh,\\n\\n    # Aerodynamic performance of the lifting surface at an angle of attack of 0 (alpha=0).\\n    # These CL0 and CD0 values are added to the CL and CD obtained from aerodynamic analysis of the surface to get the total CL and CD.\\n    # These CL0 and CD0 values do not vary wrt alpha. DO NOT EDIT THEM UNLESS ASKED TO.\\n    \"CL0\": 0.0,  # CL of the surface at alpha=0\\n    \"CD0\": 0.0,  # CD of the surface at alpha=0\\n\\n    # Airfoil properties for viscous drag calculation, DO NOT CHANGE UNLESS ASKED TO\\n    \"k_lam\": 0.05,  # percentage of chord with laminar flow, used for viscous drag\\n    \"c_max_t\": 0.303,  # chordwise location of maximum (NACA0015)\\n    \"t_over_c_cp\": np.array([0.12]),  # thickness-to-chord ratio\\n\\n    # DO NOT CHANGE UNLESS ASKED TO, type of analysis, wave for high mach number, viscous to model viscous drag\\n    \"with_viscous\": True,  # if true, compute viscous drag,\\n    \"with_wave\": False,\\n\\n    # Useful options for changing the wing geometry, CHANGE THESE\\n    #\"chord_cp\": np.ones(3),  # if chord cp is allowed to be optimized, uncomment this line and change the value for how many points for the bspline to change the chord, default is 3\\n    \"taper\" : 0.4, # if the wing can be tapered, uncomment this line and change the initial value for how much taper, default is 0.4\\n    \"sweep\" : 28.0, # if the wing can be swept, uncomment this line and change the initial value for how much sweep, default is 28.0\\n    #\"twist_cp\" : np.zeros(2),  # if the wing can be twisted, uncomment this line and change the value for how many points for the bspline to change the twist, default is 4\\n}  # end of surface dictionary'}\n"
     ]
    }
   ],
   "source": [
    "print(geometry_output[\"python_code\"])\n",
    "print(geometry_output)"
   ]
  },
  {
   "cell_type": "code",
   "execution_count": 9,
   "metadata": {},
   "outputs": [],
   "source": [
    "# Optimization Setup\n",
    "OptimizerPrompt  = f\"\"\"For this wing desgin, the optimization parameters are as follows: {reformulator_output[\"design_variables\"]}, the objective function is {reformulator_output[\"objective_function\"]}, the geometric constraints are {reformulator_output[\"geometric_constraint\"]}, the flight condition is {reformulator_output[\"trim_condition\"]}, and the optimization algorithm is {reformulator_output[\"optimization_algorithm\"]}\"\"\"\n",
    "\n",
    "optimizer_setup = OptimizerAgent()\n",
    "optimizer_output = optimizer_setup.execute_task(OptimizerPrompt)"
   ]
  },
  {
   "cell_type": "code",
   "execution_count": 10,
   "metadata": {},
   "outputs": [
    {
     "name": "stdout",
     "output_type": "stream",
     "text": [
      "# Instantiate the problem and the model group\n",
      "prob = om.Problem()\n",
      "\n",
      "# Define flight conditions\n",
      "Mach_number = 0.5 # You can change this if the user specifies a different Mach number\n",
      "rho = 1.225\n",
      "v = Mach_number * 340  # freestream speed, m/s\n",
      "Re_c = rho * v / 1.81e-5  # Reynolds number / characteristic length, 1/m\n",
      "\n",
      "indep_var_comp = om.IndepVarComp()\n",
      "indep_var_comp.add_output(\"v\", val=v, units=\"m/s\")  # Freestream Velocity\n",
      "indep_var_comp.add_output(\n",
      "    \"alpha\", val=0.0, units=\"deg\"\n",
      ") \n",
      "indep_var_comp.add_output(\"Mach_number\", val=Mach_number)  # Freestream Mach number\n",
      "indep_var_comp.add_output(\"re\", val=Re_c, units=\"1/m\")  # Freestream Reynolds number times chord length\n",
      "indep_var_comp.add_output(\"rho\", val=rho, units=\"kg/m**3\")  # Freestream air density\n",
      "indep_var_comp.add_output(\"cg\", val=np.zeros((3)), units=\"m\")  # Aircraft center of gravity\n",
      "prob.model.add_subsystem(\"flight_vars\", indep_var_comp, promotes=[\"*\"])\n",
      "\n",
      "# Setup OpenAeroStruct model\n",
      "name = surface[\"name\"]\n",
      "\n",
      "# Add geometry group to the problem and add wing suface as a sub group.\n",
      "# These groups are responsible for manipulating the geometry of the mesh, in this case spanwise twist.\n",
      "geom_group = Geometry(surface=surface)\n",
      "prob.model.add_subsystem(name, geom_group)\n",
      "\n",
      "# Create the aero point group for this flight condition and add it to the model\n",
      "aero_group = AeroPoint(surfaces=[surface], rotational=True)\n",
      "point_name = \"flight_condition_0\"\n",
      "prob.model.add_subsystem(\n",
      "    point_name,\n",
      "    aero_group,\n",
      "    promotes_inputs=[\n",
      "        \"v\",\n",
      "        \"alpha\",\n",
      "        \"beta\",\n",
      "        \"omega\",\n",
      "        \"Mach_number\",\n",
      "        \"re\",\n",
      "        \"rho\",\n",
      "        \"cg\",\n",
      "    ],\n",
      ")\n",
      "\n",
      "# Connect the mesh from the geometry component to the analysis point\n",
      "prob.model.connect(name + \".mesh\", point_name + \".\" + name + \".def_mesh\")\n",
      "\n",
      "# Perform the connections with the modified names within the 'aero_states' group.\n",
      "prob.model.connect(name + \".mesh\", point_name + \".aero_states.\" + name + \"_def_mesh\")\n",
      "\n",
      "# Connect the parameters within the model for each aero point\n",
      "prob.model.connect(name + \".t_over_c\", point_name + \".\" + name + \"_perf.\" + \"t_over_c\")\n",
      "\n",
      "########## THIS IS THE PART TO EDIT ##########\n",
      "#If the variables are not specified, you can comment them out, you can also change the upper and lower bounds.\n",
      "#You are also allowed to add the design varaibles, constraints, and objectives here like chord_cp, twist_cp, taper, sweep etc.\n",
      "#The way to add them is wing.\"var_name\" and the lower and upper bounds are in the form of lower=0.0, upper=1.0\n",
      "#these are the var names that you can use area = S_ref, taper = taper, sweep = sweep, chord_cp = chord_cp, twist_cp = twist_cp\n",
      "\n",
      "prob.model.add_design_var('wing.taper', lower=0.2, upper=0.8)   # varies\n",
      "prob.model.add_design_var('wing.sweep', lower=20., upper=40., units='deg')   # varies\n",
      "\n",
      "prob.model.add_constraint('flight_condition_0.wing_perf.CL', equals=0.5)   # impose CL = x\n",
      "prob.model.add_constraint('wing.S_ref', equals=400.) # Wing area constraint\n",
      "prob.model.add_constraint('wing.b', equals=60.) # Wing span constraint\n",
      "\n",
      "prob.model.add_objective('flight_condition_0.wing_perf.CD', ref=0.01)   # dummy objective to minimize CD.\n",
      "############# THIS END OF THE PART TO EDIT ##########\n",
      "\n",
      "# use Scipy's SLSQP optimization\n",
      "prob.driver = om.ScipyOptimizeDriver()\n",
      "\n",
      "# record optimization history\n",
      "recorder = om.SqliteRecorder(\"aero.db\")\n",
      "prob.driver.add_recorder(recorder)\n",
      "prob.driver.recording_options[\"includes\"] = [\"*\"]\n",
      "\n",
      "prob.setup()\n",
      "prob.run_driver()\n",
      "\n",
      "#print results\n",
      "print(\"\\nAngle of attack =\", prob.get_val(\"alpha\", units=\"deg\")[0], \"deg\")\n",
      "print(\"CL = \", prob.get_val(\"flight_condition_0.wing_perf.CL\")[0])\n",
      "print(\"CD = \", prob.get_val(\"flight_condition_0.wing_perf.CD\")[0])\n",
      "{'calculations_and_explain': 'The following changes are made to the original code to perform the optimization:\\n\\n1.  **Design Variables**: Added `taper` and `sweep` as design variables.  Bounds are added to constrain the range of values these variables can take during optimization. The bounds are set to lower=0.2, upper=0.8 for taper and lower=20., upper=40. for sweep\\n2.  **Constraints**: Added two constraints for wing area (S\\\\_ref) and span (b). The values are set to S_ref = 400 and b = 60.  The constraint for the lift coefficient (CL) remains as CL = 0.5.\\n3.  **Objective Function**: The objective is to minimize drag. Therefore, the objective function is set to minimize flight_condition_0.wing_perf.CD\\n4.  No other changes were necessary for this optimization task.  The core OpenAeroStruct setup remains the same.', 'python_code': '# Instantiate the problem and the model group\\nprob = om.Problem()\\n\\n# Define flight conditions\\nMach_number = 0.5 # You can change this if the user specifies a different Mach number\\nrho = 1.225\\nv = Mach_number * 340  # freestream speed, m/s\\nRe_c = rho * v / 1.81e-5  # Reynolds number / characteristic length, 1/m\\n\\nindep_var_comp = om.IndepVarComp()\\nindep_var_comp.add_output(\"v\", val=v, units=\"m/s\")  # Freestream Velocity\\nindep_var_comp.add_output(\\n    \"alpha\", val=0.0, units=\"deg\"\\n) \\nindep_var_comp.add_output(\"Mach_number\", val=Mach_number)  # Freestream Mach number\\nindep_var_comp.add_output(\"re\", val=Re_c, units=\"1/m\")  # Freestream Reynolds number times chord length\\nindep_var_comp.add_output(\"rho\", val=rho, units=\"kg/m**3\")  # Freestream air density\\nindep_var_comp.add_output(\"cg\", val=np.zeros((3)), units=\"m\")  # Aircraft center of gravity\\nprob.model.add_subsystem(\"flight_vars\", indep_var_comp, promotes=[\"*\"])\\n\\n# Setup OpenAeroStruct model\\nname = surface[\"name\"]\\n\\n# Add geometry group to the problem and add wing suface as a sub group.\\n# These groups are responsible for manipulating the geometry of the mesh, in this case spanwise twist.\\ngeom_group = Geometry(surface=surface)\\nprob.model.add_subsystem(name, geom_group)\\n\\n# Create the aero point group for this flight condition and add it to the model\\naero_group = AeroPoint(surfaces=[surface], rotational=True)\\npoint_name = \"flight_condition_0\"\\nprob.model.add_subsystem(\\n    point_name,\\n    aero_group,\\n    promotes_inputs=[\\n        \"v\",\\n        \"alpha\",\\n        \"beta\",\\n        \"omega\",\\n        \"Mach_number\",\\n        \"re\",\\n        \"rho\",\\n        \"cg\",\\n    ],\\n)\\n\\n# Connect the mesh from the geometry component to the analysis point\\nprob.model.connect(name + \".mesh\", point_name + \".\" + name + \".def_mesh\")\\n\\n# Perform the connections with the modified names within the \\'aero_states\\' group.\\nprob.model.connect(name + \".mesh\", point_name + \".aero_states.\" + name + \"_def_mesh\")\\n\\n# Connect the parameters within the model for each aero point\\nprob.model.connect(name + \".t_over_c\", point_name + \".\" + name + \"_perf.\" + \"t_over_c\")\\n\\n########## THIS IS THE PART TO EDIT ##########\\n#If the variables are not specified, you can comment them out, you can also change the upper and lower bounds.\\n#You are also allowed to add the design varaibles, constraints, and objectives here like chord_cp, twist_cp, taper, sweep etc.\\n#The way to add them is wing.\"var_name\" and the lower and upper bounds are in the form of lower=0.0, upper=1.0\\n#these are the var names that you can use area = S_ref, taper = taper, sweep = sweep, chord_cp = chord_cp, twist_cp = twist_cp\\n\\nprob.model.add_design_var(\\'wing.taper\\', lower=0.2, upper=0.8)   # varies\\nprob.model.add_design_var(\\'wing.sweep\\', lower=20., upper=40., units=\\'deg\\')   # varies\\n\\nprob.model.add_constraint(\\'flight_condition_0.wing_perf.CL\\', equals=0.5)   # impose CL = x\\nprob.model.add_constraint(\\'wing.S_ref\\', equals=400.) # Wing area constraint\\nprob.model.add_constraint(\\'wing.b\\', equals=60.) # Wing span constraint\\n\\nprob.model.add_objective(\\'flight_condition_0.wing_perf.CD\\', ref=0.01)   # dummy objective to minimize CD.\\n############# THIS END OF THE PART TO EDIT ##########\\n\\n# use Scipy\\'s SLSQP optimization\\nprob.driver = om.ScipyOptimizeDriver()\\n\\n# record optimization history\\nrecorder = om.SqliteRecorder(\"aero.db\")\\nprob.driver.add_recorder(recorder)\\nprob.driver.recording_options[\"includes\"] = [\"*\"]\\n\\nprob.setup()\\nprob.run_driver()\\n\\n#print results\\nprint(\"\\\\nAngle of attack =\", prob.get_val(\"alpha\", units=\"deg\")[0], \"deg\")\\nprint(\"CL = \", prob.get_val(\"flight_condition_0.wing_perf.CL\")[0])\\nprint(\"CD = \", prob.get_val(\"flight_condition_0.wing_perf.CD\")[0])'}\n"
     ]
    }
   ],
   "source": [
    "print(optimizer_output[\"python_code\"])\n",
    "print(optimizer_output)"
   ]
  }
 ],
 "metadata": {
  "kernelspec": {
   "display_name": ".venv",
   "language": "python",
   "name": "python3"
  },
  "language_info": {
   "codemirror_mode": {
    "name": "ipython",
    "version": 3
   },
   "file_extension": ".py",
   "mimetype": "text/x-python",
   "name": "python",
   "nbconvert_exporter": "python",
   "pygments_lexer": "ipython3",
   "version": "3.13.2"
  }
 },
 "nbformat": 4,
 "nbformat_minor": 2
}
