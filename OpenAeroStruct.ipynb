{
 "cells": [
  {
   "cell_type": "markdown",
   "metadata": {},
   "source": [
    "### LLM OpenAeroStruct"
   ]
  },
  {
   "cell_type": "markdown",
   "metadata": {},
   "source": [
    "#### A multiagent tool to write optimization code for OpenAeroStruct with simply high level inputs from the user, i.e. I want to design a sweeped rectangular wing with elliptical lift distribution"
   ]
  },
  {
   "cell_type": "code",
   "execution_count": 26,
   "metadata": {},
   "outputs": [],
   "source": [
    "# Import the generative ai library\n",
    "import google.generativeai as genai #type: ignore\n",
    "\n",
    "# Import all the modules necessary to run OpenAeroStruct and paths\n",
    "import re\n",
    "import time\n",
    "import os\n",
    "import subprocess\n",
    "import warnings\n",
    "import numpy as np\n",
    "import pandas as pd #type: ignore\n",
    "import openmdao.api as om\n",
    "import json\n",
    "\n",
    "# import OpenAeroStruct modules\n",
    "from openaerostruct.geometry.utils import generate_mesh  # helper functions to generate mesh\n",
    "from openaerostruct.geometry.geometry_group import Geometry\n",
    "from openaerostruct.aerodynamics.aero_groups import AeroPoint\n",
    "\n",
    "# Import the plotting libraries\n",
    "import matplotlib.pyplot as plt\n",
    "import plotly.graph_objects as go\n",
    "import niceplots  # Optional but recommended\n",
    "\n",
    "#Ignore warnings and use the nice plots style\n",
    "warnings.filterwarnings(\"ignore\")\n",
    "\n",
    "plt.style.use(\n",
    "    niceplots.get_style(\"james-dark\")\n",
    ")  # Options: \"doumont-light\", \"doumont-dark\", \"james-light\", \"james-dark\""
   ]
  },
  {
   "cell_type": "code",
   "execution_count": 27,
   "metadata": {},
   "outputs": [],
   "source": [
    "#Import the relevant agents\n",
    "from Agents import ReformulatorAgent\n",
    "from Agents import BaseMeshAgent\n",
    "from Agents import GeometryAgent\n",
    "from Agents import OptimizerAgent\n",
    "from Agents import ResultsReaderAgent\n",
    "from Agents import ReportWriter"
   ]
  },
  {
   "cell_type": "code",
   "execution_count": 28,
   "metadata": {},
   "outputs": [],
   "source": [
    "# Define the initial sample query from the user.\n",
    "User_Request  = \"\"\"For this design, we will keep the area at S = 100 m2. The span is b = 10 m. The cruise condition corresponds to CL = 2.0. Your job is to minimize drag at the condition of CL = 2.0 and you have complete freedom in the taper, twist, and sweep of the wing. Make a plot of the elliptical lift distribution.\"\"\"\n",
    "\n",
    "\"\"\"HERE ARE SOME BACKUP PROMPTS\"\"\"\n",
    "#User_Request  = \"\"\"For this design, we will keep the area constant at S = 400 m2. The span is b = 60 m. The cruise condition corresponds to CL = 0.5. Your job is to minimize drag at the condition of CL = 0.5 and you have complete freedom in the taper and sweep of the wing. Make a plot of the elliptical lift distribution.\"\"\"\n",
    "#User_Request  = \"\"\"For this design, we will keep the area constant at S = 400 m2. The span is b = 60 m. The cruise condition corresponds to CL = 0.5. Your job is to minimize drag at the condition of CL = 0.5 and you have complete freedom in the taper, twist, and sweep of the wing. Make a plot of the elliptical lift distribution.\"\"\"\n",
    "#User_Request  = \"\"\"For this design, we will keep the area at S = 100 m2. The span is b = 10 m. The cruise condition corresponds to CL = 2.0. Your job is to minimize drag at the condition of CL = 2.0 and you have complete freedom in the taper, twist, and sweep of the wing. Make a plot of the elliptical lift distribution.\"\"\"\n",
    "\n",
    "reformulator = ReformulatorAgent()\n",
    "reformulator_output = reformulator.execute_task(User_Request)"
   ]
  },
  {
   "cell_type": "code",
   "execution_count": 29,
   "metadata": {},
   "outputs": [
    {
     "name": "stdout",
     "output_type": "stream",
     "text": [
      "Reformulator Output:\n",
      "{'objective_function': 'Minimize drag', 'trim_condition': 'CL = 2.0', 'geometric_constraint': 'Wing area (S) = 100 m^2, Span (b) = 10 m', 'design_variables': 'Taper, Twist, Sweep', 'baseline_wing_mesh': 'rect', 'optimization_algorithm': 'SLSQP', 'plotting_requirements': 'Plot of elliptical lift distribution', 'errors': 'None'}\n"
     ]
    }
   ],
   "source": [
    "print(\"Reformulator Output:\")\n",
    "print(reformulator_output)"
   ]
  },
  {
   "cell_type": "markdown",
   "metadata": {},
   "source": [
    "#### Now start writing the file into RunOAS to prepare for the optimization and plotting script using LLM."
   ]
  },
  {
   "cell_type": "code",
   "execution_count": 30,
   "metadata": {},
   "outputs": [],
   "source": [
    "#Write the mesh prompt\n",
    "\n",
    "MeshPrompt  = f\"\"\"For this wing desgin, the geometric parameters are as follows: {reformulator_output[\"geometric_constraint\"]}, and the type of the wing mesh should be: {reformulator_output[\"baseline_wing_mesh\"]}\"\"\"\n",
    "\n",
    "mesher = BaseMeshAgent()\n",
    "mesher_output = mesher.execute_task(MeshPrompt)"
   ]
  },
  {
   "cell_type": "code",
   "execution_count": 31,
   "metadata": {},
   "outputs": [
    {
     "name": "stdout",
     "output_type": "stream",
     "text": [
      "# This is a sample code to generate a mesh for a rectangular wing\n",
      "mesh_dict = {\n",
      "    \"num_y\": 19, #number of panels in the y direction, 19 is a good starting number\n",
      "    \"num_x\": 3, #number of panels in the x direction, 3 is a good starting number\n",
      "    \"wing_type\": \"rect\", #This can either be \"rect\" or \"crm\" only\n",
      "    \"symmetry\": True, # True if the wing is symmetric, False if it is not, wings are typically symmetric\n",
      "    \"span\": 10.0, #This is the full span of the wing in meters\n",
      "    \"root_chord\": 10.0, #This is the root chord of the wing in meters\n",
      "    \"span_cos_spacing\": 0.0, #This is usually not edited\n",
      "    \"chord_cos_spacing\": 0.0, #This is usually not edited\n",
      "}\n",
      "\n",
      "# Generate VLM mesh for half-wing\n",
      "mesh = generate_mesh(mesh_dict)   # this creates a rectangular wing mesh, DO NOT EDIT THIS LINE\n",
      "\n",
      "# plot mesh\n",
      "plot_mesh(mesh)  #this plots the rectangular wing mesh, DO NOT EDIT THIS LINE\n",
      "{'calculations_and_explain': \"Given the wing area (S) = 100 m^2 and span (b) = 10 m, we need to calculate the root chord for the rectangular wing. Since it is a symmetric wing, we would consider half the wing in the mesh. The formula to calculate root chord is:\\n\\nroot_chord = area / span = 100 / 10 = 10m\\n\\n\\nThen, I set the 'wing_type' to 'rect'.\\nThe 'symmetry' parameter is set to True, since typically wings are symmetric.\\nThe 'num_y' (number of panels in the y direction) is set to 19, 'num_x' (number of panels in the x direction) is set to 3 as a starting number. This can be tuned later based on the specific requirements of the simulation.\\n'span_cos_spacing' and 'chord_cos_spacing' are set to 0.0, as they are usually not edited.\", 'python_code': '# This is a sample code to generate a mesh for a rectangular wing\\nmesh_dict = {\\n    \"num_y\": 19, #number of panels in the y direction, 19 is a good starting number\\n    \"num_x\": 3, #number of panels in the x direction, 3 is a good starting number\\n    \"wing_type\": \"rect\", #This can either be \"rect\" or \"crm\" only\\n    \"symmetry\": True, # True if the wing is symmetric, False if it is not, wings are typically symmetric\\n    \"span\": 10.0, #This is the full span of the wing in meters\\n    \"root_chord\": 10.0, #This is the root chord of the wing in meters\\n    \"span_cos_spacing\": 0.0, #This is usually not edited\\n    \"chord_cos_spacing\": 0.0, #This is usually not edited\\n}\\n\\n# Generate VLM mesh for half-wing\\nmesh = generate_mesh(mesh_dict)   # this creates a rectangular wing mesh, DO NOT EDIT THIS LINE\\n\\n# plot mesh\\nplot_mesh(mesh)  #this plots the rectangular wing mesh, DO NOT EDIT THIS LINE'}\n"
     ]
    }
   ],
   "source": [
    "print(mesher_output[\"python_code\"])\n",
    "print(mesher_output)"
   ]
  },
  {
   "cell_type": "code",
   "execution_count": 32,
   "metadata": {},
   "outputs": [],
   "source": [
    "#Geometry Setup\n",
    "GeometryPrompt  = f\"\"\"For this wing desgin, we are allowed to change the following parameters: {reformulator_output[\"design_variables\"]}\"\"\"\n",
    "\n",
    "geometry_setup = GeometryAgent()\n",
    "geometry_output = geometry_setup.execute_task(GeometryPrompt)"
   ]
  },
  {
   "cell_type": "code",
   "execution_count": 33,
   "metadata": {},
   "outputs": [
    {
     "name": "stdout",
     "output_type": "stream",
     "text": [
      "surface = {\n",
      "    # Wing definition, KEEP THE SAME UNLESS ASKED TO CHANGE\n",
      "    \"name\": \"wing\",  # name of the surface, keep as wing\n",
      "    \"symmetry\": True,  # if true, model one half of wing reflected across the plane y = 0\n",
      "    \"S_ref_type\": \"wetted\",  # how we compute the wing area, can be 'wetted' or 'projected'\n",
      "    \"mesh\": mesh,\n",
      "\n",
      "    # Aerodynamic performance of the lifting surface at an angle of attack of 0 (alpha=0).\n",
      "    # These CL0 and CD0 values are added to the CL and CD obtained from aerodynamic analysis of the surface to get the total CL and CD.\n",
      "    # These CL0 and CD0 values do not vary wrt alpha. DO NOT EDIT THEM UNLESS ASKED TO.\n",
      "    \"CL0\": 0.0,  # CL of the surface at alpha=0\n",
      "    \"CD0\": 0.0,  # CD of the surface at alpha=0\n",
      "\n",
      "    # Airfoil properties for viscous drag calculation, DO NOT CHANGE UNLESS ASKED TO\n",
      "    \"k_lam\": 0.05,  # percentage of chord with laminar flow, used for viscous drag\n",
      "    \"c_max_t\": 0.303,  # chordwise location of maximum (NACA0015)\n",
      "    \"t_over_c_cp\": np.array([0.12]),  # thickness-to-chord ratio\n",
      "\n",
      "    # DO NOT CHANGE UNLESS ASKED TO, type of analysis, wave for high mach number, viscous to model viscous drag\n",
      "    \"with_viscous\": True,  # if true, compute viscous drag,\n",
      "    \"with_wave\": False,\n",
      "\n",
      "    # Useful options for changing the wing geometry, CHANGE THESE\n",
      "    \"taper\" : 0.4, # if the wing can be tapered, uncomment this line and change the initial value for how much taper, default is 0.4\n",
      "    \"sweep\" : 28.0, # if the wing can be swept, uncomment this line and change the initial value for how much sweep, default is 28.0\n",
      "    \"twist_cp\" : np.zeros(2),  # if the wing can be twisted, uncomment this line and change the value for how many points for the bspline to change the twist, default is 4\n",
      "}  # end of surface dictionary\n",
      "{'calculations_and_explain': 'The problem requires to modify the OpenAeroStruct wing definition to enable optimization of taper, twist, and sweep. Based on the instructions, I need to uncomment the corresponding lines in the `surface` dictionary and provide initial values. Taper is initiated to 0.4, sweep to 28.0 and twist cp to a zero vector of length 2.', 'python_code': 'surface = {\\n    # Wing definition, KEEP THE SAME UNLESS ASKED TO CHANGE\\n    \"name\": \"wing\",  # name of the surface, keep as wing\\n    \"symmetry\": True,  # if true, model one half of wing reflected across the plane y = 0\\n    \"S_ref_type\": \"wetted\",  # how we compute the wing area, can be \\'wetted\\' or \\'projected\\'\\n    \"mesh\": mesh,\\n\\n    # Aerodynamic performance of the lifting surface at an angle of attack of 0 (alpha=0).\\n    # These CL0 and CD0 values are added to the CL and CD obtained from aerodynamic analysis of the surface to get the total CL and CD.\\n    # These CL0 and CD0 values do not vary wrt alpha. DO NOT EDIT THEM UNLESS ASKED TO.\\n    \"CL0\": 0.0,  # CL of the surface at alpha=0\\n    \"CD0\": 0.0,  # CD of the surface at alpha=0\\n\\n    # Airfoil properties for viscous drag calculation, DO NOT CHANGE UNLESS ASKED TO\\n    \"k_lam\": 0.05,  # percentage of chord with laminar flow, used for viscous drag\\n    \"c_max_t\": 0.303,  # chordwise location of maximum (NACA0015)\\n    \"t_over_c_cp\": np.array([0.12]),  # thickness-to-chord ratio\\n\\n    # DO NOT CHANGE UNLESS ASKED TO, type of analysis, wave for high mach number, viscous to model viscous drag\\n    \"with_viscous\": True,  # if true, compute viscous drag,\\n    \"with_wave\": False,\\n\\n    # Useful options for changing the wing geometry, CHANGE THESE\\n    \"taper\" : 0.4, # if the wing can be tapered, uncomment this line and change the initial value for how much taper, default is 0.4\\n    \"sweep\" : 28.0, # if the wing can be swept, uncomment this line and change the initial value for how much sweep, default is 28.0\\n    \"twist_cp\" : np.zeros(2),  # if the wing can be twisted, uncomment this line and change the value for how many points for the bspline to change the twist, default is 4\\n}  # end of surface dictionary'}\n"
     ]
    }
   ],
   "source": [
    "print(geometry_output[\"python_code\"])\n",
    "print(geometry_output)"
   ]
  },
  {
   "cell_type": "code",
   "execution_count": 34,
   "metadata": {},
   "outputs": [],
   "source": [
    "# Optimization Setup\n",
    "OptimizerPrompt  = f\"\"\"For this wing desgin, the optimization parameters are as follows: {reformulator_output[\"design_variables\"]}, the objective function is {reformulator_output[\"objective_function\"]}, the geometric constraints are {reformulator_output[\"geometric_constraint\"]}, the flight condition is {reformulator_output[\"trim_condition\"]}, and the optimization algorithm is {reformulator_output[\"optimization_algorithm\"]}\"\"\"\n",
    "\n",
    "optimizer_setup = OptimizerAgent()\n",
    "optimizer_output = optimizer_setup.execute_task(OptimizerPrompt)"
   ]
  },
  {
   "cell_type": "code",
   "execution_count": 35,
   "metadata": {},
   "outputs": [
    {
     "name": "stdout",
     "output_type": "stream",
     "text": [
      "# Instantiate the problem and the model group\n",
      "prob = om.Problem()\n",
      "\n",
      "# Define flight conditions\n",
      "Mach_number = 0.5 # You can change this if the user specifies a different Mach number\n",
      "rho = 1.225\n",
      "v = Mach_number * 340  # freestream speed, m/s\n",
      "Re_c = rho * v / 1.81e-5  # Reynolds number / characteristic length, 1/m\n",
      "\n",
      "indep_var_comp = om.IndepVarComp()\n",
      "indep_var_comp.add_output(\"v\", val=v, units=\"m/s\")  # Freestream Velocity\n",
      "indep_var_comp.add_output(\n",
      "    \"alpha\", val=0.0, units=\"deg\"\n",
      ") \n",
      "indep_var_comp.add_output(\"Mach_number\", val=Mach_number)  # Freestream Mach number\n",
      "indep_var_comp.add_output(\"re\", val=Re_c, units=\"1/m\")  # Freestream Reynolds number times chord length\n",
      "indep_var_comp.add_output(\"rho\", val=rho, units=\"kg/m**3\")  # Freestream air density\n",
      "indep_var_comp.add_output(\"cg\", val=np.zeros((3)), units=\"m\")  # Aircraft center of gravity\n",
      "prob.model.add_subsystem(\"flight_vars\", indep_var_comp, promotes=[\"*\"])\n",
      "\n",
      "# Setup OpenAeroStruct model\n",
      "name = surface[\"name\"]\n",
      "\n",
      "# Add geometry group to the problem and add wing suface as a sub group.\n",
      "# These groups are responsible for manipulating the geometry of the mesh, in this case spanwise twist.\n",
      "geom_group = Geometry(surface=surface)\n",
      "prob.model.add_subsystem(name, geom_group)\n",
      "\n",
      "# Create the aero point group for this flight condition and add it to the model\n",
      "aero_group = AeroPoint(surfaces=[surface], rotational=True)\n",
      "point_name = \"flight_condition_0\"\n",
      "prob.model.add_subsystem(\n",
      "    point_name,\n",
      "    aero_group,\n",
      "    promotes_inputs=[\n",
      "        \"v\",\n",
      "        \"alpha\",\n",
      "        \"beta\",\n",
      "        \"omega\",\n",
      "        \"Mach_number\",\n",
      "        \"re\",\n",
      "        \"rho\",\n",
      "        \"cg\",\n",
      "    ],\n",
      ")\n",
      "\n",
      "# Connect the mesh from the geometry component to the analysis point\n",
      "prob.model.connect(name + \".mesh\", point_name + \".\" + name + \".def_mesh\")\n",
      "\n",
      "# Perform the connections with the modified names within the 'aero_states' group.\n",
      "prob.model.connect(name + \".mesh\", point_name + \".aero_states.\" + name + \"_def_mesh\")\n",
      "\n",
      "# Connect the parameters within the model for each aero point\n",
      "prob.model.connect(name + \".t_over_c\", point_name + \".\" + name + \"_perf.\" + \"t_over_c\")\n",
      "\n",
      "########## THIS IS THE PART TO EDIT ##########\n",
      "#If the variables are not specified, you can comment them out, you can also change the upper and lower bounds.\n",
      "#You are also allowed to add the design varaibles, constraints, and objectives here like chord_cp, twist_cp, taper, sweep etc.\n",
      "#The way to add them is wing.\"var_name\" and the lower and upper bounds are in the form of lower=0.0, upper=1.0\n",
      "#these are the var names that you can use taper = taper, sweep = sweep, chord_cp = chord_cp, twist_cp = twist_cp\n",
      "#remember to add alpha as a design variable if CL is a constraint. \n",
      "#DO NOT ADD THE AREA AND SPAN CONSTRAINTS HERE AS THEY DO NOT WORK YET.\n",
      "\n",
      "prob.model.add_design_var('wing.taper', lower=0.2, upper=1.0) # varies\n",
      "prob.model.add_design_var('wing.twist_cp', lower=-10.0, upper=10.0, units='deg') # varies\n",
      "prob.model.add_design_var('wing.sweep', lower=10.0, upper=30.0, units='deg')  # varies\n",
      "prob.model.add_design_var('alpha', lower=-10.0, upper=10.0, units='deg')\n",
      "\n",
      "prob.model.add_constraint('flight_condition_0.wing_perf.CL', equals=2.0)   # impose CL = x\n",
      "#prob.model.add_constraint('wing.S_ref', equals=100.0)  #S\n",
      "#prob.model.add_constraint('wing.b_half_w', equals=5.0) # Half span\n",
      "prob.model.add_objective('flight_condition_0.wing_perf.CD', ref=0.01)   # dummy objective to minimize CD.\n",
      "############# THIS END OF THE PART TO EDIT ##########\n",
      "\n",
      "# use Scipy's SLSQP optimization\n",
      "prob.driver = om.ScipyOptimizeDriver()\n",
      "\n",
      "# record optimization history\n",
      "recorder = om.SqliteRecorder(\"aero.db\")\n",
      "prob.driver.add_recorder(recorder)\n",
      "prob.driver.recording_options[\"includes\"] = [\"*\"]\n",
      "\n",
      "prob.setup()\n",
      "prob.run_driver() \n",
      "\n",
      "#print results\n",
      "print(\"\\nAngle of attack =\", prob.get_val(\"alpha\", units=\"deg\")[0], \"deg\")\n",
      "print(\"CL = \", prob.get_val(\"flight_condition_0.wing_perf.CL\")[0])\n",
      "print(\"CD = \", prob.get_val(\"flight_condition_0.wing_perf.CD\")[0])\n",
      "{'calculations_and_explain': '1.  **Set up the problem and flight conditions:** This part remains mostly the same, defining the freestream velocity, angle of attack, Mach number, Reynolds number, air density, and center of gravity.\\n2.  **Add geometry and Aeropoint groups:** Here i create two openaero struct groups for mesh manipulation and flight conditons\\n3.  **Add design variables:** In this I add taper, twist_cp, and sweep, with lower and upper bounds.\\n4.  **Add constraints:** The CL constraint is set to 2.0. The area and span constraints have been removed.\\n5.  **Add objective:** The objective is to minimize the drag.\\n6.  **Set up the optimizer:** The ScipyOptimizeDriver is used with the SLSQP algorithm.\\n7.  **Run the optimization and print results:**', 'python_code': '# Instantiate the problem and the model group\\nprob = om.Problem()\\n\\n# Define flight conditions\\nMach_number = 0.5 # You can change this if the user specifies a different Mach number\\nrho = 1.225\\nv = Mach_number * 340  # freestream speed, m/s\\nRe_c = rho * v / 1.81e-5  # Reynolds number / characteristic length, 1/m\\n\\nindep_var_comp = om.IndepVarComp()\\nindep_var_comp.add_output(\"v\", val=v, units=\"m/s\")  # Freestream Velocity\\nindep_var_comp.add_output(\\n    \"alpha\", val=0.0, units=\"deg\"\\n) \\nindep_var_comp.add_output(\"Mach_number\", val=Mach_number)  # Freestream Mach number\\nindep_var_comp.add_output(\"re\", val=Re_c, units=\"1/m\")  # Freestream Reynolds number times chord length\\nindep_var_comp.add_output(\"rho\", val=rho, units=\"kg/m**3\")  # Freestream air density\\nindep_var_comp.add_output(\"cg\", val=np.zeros((3)), units=\"m\")  # Aircraft center of gravity\\nprob.model.add_subsystem(\"flight_vars\", indep_var_comp, promotes=[\"*\"])\\n\\n# Setup OpenAeroStruct model\\nname = surface[\"name\"]\\n\\n# Add geometry group to the problem and add wing suface as a sub group.\\n# These groups are responsible for manipulating the geometry of the mesh, in this case spanwise twist.\\ngeom_group = Geometry(surface=surface)\\nprob.model.add_subsystem(name, geom_group)\\n\\n# Create the aero point group for this flight condition and add it to the model\\naero_group = AeroPoint(surfaces=[surface], rotational=True)\\npoint_name = \"flight_condition_0\"\\nprob.model.add_subsystem(\\n    point_name,\\n    aero_group,\\n    promotes_inputs=[\\n        \"v\",\\n        \"alpha\",\\n        \"beta\",\\n        \"omega\",\\n        \"Mach_number\",\\n        \"re\",\\n        \"rho\",\\n        \"cg\",\\n    ],\\n)\\n\\n# Connect the mesh from the geometry component to the analysis point\\nprob.model.connect(name + \".mesh\", point_name + \".\" + name + \".def_mesh\")\\n\\n# Perform the connections with the modified names within the \\'aero_states\\' group.\\nprob.model.connect(name + \".mesh\", point_name + \".aero_states.\" + name + \"_def_mesh\")\\n\\n# Connect the parameters within the model for each aero point\\nprob.model.connect(name + \".t_over_c\", point_name + \".\" + name + \"_perf.\" + \"t_over_c\")\\n\\n########## THIS IS THE PART TO EDIT ##########\\n#If the variables are not specified, you can comment them out, you can also change the upper and lower bounds.\\n#You are also allowed to add the design varaibles, constraints, and objectives here like chord_cp, twist_cp, taper, sweep etc.\\n#The way to add them is wing.\"var_name\" and the lower and upper bounds are in the form of lower=0.0, upper=1.0\\n#these are the var names that you can use taper = taper, sweep = sweep, chord_cp = chord_cp, twist_cp = twist_cp\\n#remember to add alpha as a design variable if CL is a constraint. \\n#DO NOT ADD THE AREA AND SPAN CONSTRAINTS HERE AS THEY DO NOT WORK YET.\\n\\nprob.model.add_design_var(\\'wing.taper\\', lower=0.2, upper=1.0) # varies\\nprob.model.add_design_var(\\'wing.twist_cp\\', lower=-10.0, upper=10.0, units=\\'deg\\') # varies\\nprob.model.add_design_var(\\'wing.sweep\\', lower=10.0, upper=30.0, units=\\'deg\\')  # varies\\nprob.model.add_design_var(\\'alpha\\', lower=-10.0, upper=10.0, units=\\'deg\\')\\n\\nprob.model.add_constraint(\\'flight_condition_0.wing_perf.CL\\', equals=2.0)   # impose CL = x\\n#prob.model.add_constraint(\\'wing.S_ref\\', equals=100.0)  #S\\n#prob.model.add_constraint(\\'wing.b_half_w\\', equals=5.0) # Half span\\nprob.model.add_objective(\\'flight_condition_0.wing_perf.CD\\', ref=0.01)   # dummy objective to minimize CD.\\n############# THIS END OF THE PART TO EDIT ##########\\n\\n# use Scipy\\'s SLSQP optimization\\nprob.driver = om.ScipyOptimizeDriver()\\n\\n# record optimization history\\nrecorder = om.SqliteRecorder(\"aero.db\")\\nprob.driver.add_recorder(recorder)\\nprob.driver.recording_options[\"includes\"] = [\"*\"]\\n\\nprob.setup()\\nprob.run_driver() \\n\\n#print results\\nprint(\"\\\\nAngle of attack =\", prob.get_val(\"alpha\", units=\"deg\")[0], \"deg\")\\nprint(\"CL = \", prob.get_val(\"flight_condition_0.wing_perf.CL\")[0])\\nprint(\"CD = \", prob.get_val(\"flight_condition_0.wing_perf.CD\")[0])'}\n"
     ]
    }
   ],
   "source": [
    "print(optimizer_output[\"python_code\"])\n",
    "print(optimizer_output)"
   ]
  },
  {
   "cell_type": "code",
   "execution_count": 36,
   "metadata": {},
   "outputs": [
    {
     "name": "stdout",
     "output_type": "stream",
     "text": [
      "Created RunOAS.py file with all generated code sections\n"
     ]
    }
   ],
   "source": [
    "#Write the chunks of code into the template file and run it\n",
    "template_file = \"RunOAS_template.py\"\n",
    "\n",
    "#It should then find \"\"\"Part 1: PUT THE BASELINE MESH OF THE WING HERE\"\"\" then add print(\"hi\") after it\n",
    "with open(template_file, \"r\") as file:\n",
    "    template_code = file.read()\n",
    "    \n",
    "    # Replace all placeholders with the generated code\n",
    "    template_code = template_code.replace(\n",
    "        '\"\"\"Part 1: PUT THE BASELINE MESH OF THE WING HERE\"\"\"',\n",
    "        f'\"\"\"Part 1: PUT THE BASELINE MESH OF THE WING HERE\"\"\"\\n{mesher_output[\"python_code\"]}'\n",
    "    )\n",
    "    template_code = template_code.replace(\n",
    "        '\"\"\"Part 2:  DO THE GEOMETRY SETUP HERE\"\"\"',\n",
    "        f'\"\"\"Part 2:  DO THE GEOMETRY SETUP HERE\"\"\"\\n{geometry_output[\"python_code\"]}'\n",
    "    )\n",
    "    template_code = template_code.replace(\n",
    "        '\"\"\"Part 3: PUT THE OPTIMIZER HERE \"\"\"',\n",
    "        f'\"\"\"Part 3: PUT THE OPTIMIZER HERE \"\"\"\\n{optimizer_output[\"python_code\"]}'\n",
    "    )\n",
    "\n",
    "# Write the modified code to a new file instead of modifying the template\n",
    "run_oas_file = \"RunOAS.py\"\n",
    "with open(run_oas_file, \"w\") as file:\n",
    "    file.write(template_code)\n",
    "\n",
    "print(\"Created RunOAS.py file with all generated code sections\")"
   ]
  },
  {
   "cell_type": "code",
   "execution_count": 37,
   "metadata": {},
   "outputs": [],
   "source": [
    "# Now run the script using a subprocess, also capture all the outputs, and save it as a text file.\n",
    "output_file = \"output.txt\"\n",
    "with open(output_file, \"w\") as file:\n",
    "    # Run the script and capture the output\n",
    "    process = subprocess.Popen([\"python3\", run_oas_file], stdout=subprocess.PIPE, stderr=subprocess.PIPE)\n",
    "    stdout, stderr = process.communicate()\n",
    "\n",
    "    # Decode the output and write it to the file\n",
    "    file.write(stdout.decode())\n",
    "    file.write(stderr.decode())"
   ]
  },
  {
   "cell_type": "markdown",
   "metadata": {},
   "source": [
    "### After Running the Optimization, the LLM should then have access to the plots then analyze the results"
   ]
  },
  {
   "cell_type": "code",
   "execution_count": 38,
   "metadata": {},
   "outputs": [
    {
     "name": "stdout",
     "output_type": "stream",
     "text": [
      "Converting HTML report to PDF...\n",
      "Successfully converted to PDF: Figures/Opt_History.pdf\n"
     ]
    }
   ],
   "source": [
    "HTML_Report = \"RunOAS_out/reports/opt_report.html\"\n",
    "pdf_output_path = \"Figures/Opt_History.pdf\"\n",
    "\n",
    "# Convert HTML report to PDF using pandoc\n",
    "try:\n",
    "    # Check if the HTML file exists\n",
    "    if not os.path.exists(HTML_Report):\n",
    "        print(f\"Error: HTML report not found at {HTML_Report}\")\n",
    "    else:\n",
    "        print(\"Converting HTML report to PDF...\")\n",
    "        # Use subprocess to call pandoc for the conversion\n",
    "        result = subprocess.run(\n",
    "            [\n",
    "                \"pandoc\", HTML_Report,\n",
    "                \"-o\", pdf_output_path,\n",
    "                \"--pdf-engine=/Library/TeX/texbin/pdflatex\",\n",
    "                \"-V\", \"geometry:landscape,a4paper\",  # Landscape + specific paper size\n",
    "                \"-V\", \"geometry:margin=5mm\",        # Reduce margins\n",
    "                \"-V\", \"geometry:includeheadfoot\",    # Use full page area\n",
    "                \"--variable\", \"mainfont=Helvetica\",  # More compact font\n",
    "                \"--variable\", \"fontsize=5pt\"        # Smaller base font size\n",
    "            ],\n",
    "            capture_output=True,\n",
    "            text=True\n",
    "        )\n",
    "        \n",
    "        if result.returncode == 0:\n",
    "            print(f\"Successfully converted to PDF: {pdf_output_path}\")\n",
    "        else:\n",
    "            print(f\"Error converting to PDF: {result.stderr}\")\n",
    "except Exception as e:\n",
    "    print(f\"An error occurred: {str(e)}\")"
   ]
  },
  {
   "cell_type": "code",
   "execution_count": 39,
   "metadata": {},
   "outputs": [
    {
     "name": "stdout",
     "output_type": "stream",
     "text": [
      "Saved image to Optimized_Wing.pdf\n",
      "\n"
     ]
    }
   ],
   "source": [
    "def run_plot_wing(file_path):\n",
    "    \"\"\"\n",
    "    Execute the plot_wing command on a specified aero.db file\n",
    "    \n",
    "    Args:\n",
    "        file_path (str): Path to the aero.db file\n",
    "    \"\"\"\n",
    "    if not os.path.exists(file_path):\n",
    "        print(f\"Error: File '{file_path}' does not exist.\")\n",
    "        return\n",
    "        \n",
    "    try:\n",
    "        # Run plot_wing command and capture output\n",
    "        result = subprocess.run([\"plot_wing\", file_path], \n",
    "                               capture_output=True, \n",
    "                               text=True, \n",
    "                               check=True)\n",
    "        print(result.stdout)\n",
    "    except subprocess.CalledProcessError as e:\n",
    "        print(f\"Command failed with error code {e.returncode}\")\n",
    "        print(f\"Error message: {e.stderr}\")\n",
    "    except FileNotFoundError:\n",
    "        print(\"Error: 'plot_wing' command not found. Please ensure it's installed and in your PATH.\")\n",
    "\n",
    "# Example usage\n",
    "file_path = \"RunOAS_out/aero.db\"\n",
    "run_plot_wing(file_path)"
   ]
  },
  {
   "cell_type": "code",
   "execution_count": 40,
   "metadata": {},
   "outputs": [],
   "source": [
    "#Analyze the results without RAG#\n",
    "#Geometry Setup\n",
    "ResultsPrompt  = f\"\"\"The initial problem by the user is: {User_Request}, the reformulated problem is: {reformulator_output}\"\"\"\n",
    "\n",
    "results_setup = ResultsReaderAgent()\n",
    "results_output = results_setup.execute_task(ResultsPrompt)"
   ]
  },
  {
   "cell_type": "code",
   "execution_count": 41,
   "metadata": {},
   "outputs": [
    {
     "data": {
      "text/plain": [
       "{'Analysis': \"The optimization aimed to minimize drag (CD) at a lift coefficient (CL) of 2.0, while maintaining a wing area of 100 m^2 and a span of 10 m. The design variables were taper, twist, and sweep. The optimization used the SLSQP algorithm. The optimization failed to converge. The final drag coefficient is 0.11836269. The lift distribution is close to elliptical. The taper ratio is at it's lower bound, and the sweep is at it's lower bound. Looking at the twist, one control point is at the lower bound, and one is not. Alpha is not at the bound. It seems like the optimization is trying to reduce the area at the tip as much as possible by reducing the taper ratio.\",\n",
       " 'Recommendations': 'Since the optimization failed to converge, I would recommend looking into convergence issues. I would first try running with more iterations. Then, I would look into scaling the objective functions and constraints. I would also recommend trying a different optimization algorithm such as the interior point optimizer. From the looks of it, it may be beneficial to add the quarter chord location as a design variable as well.',\n",
       " 'Optimization Performance': 'The optimization was not successful, failing to converge within 60 iterations, although the optimizer was set for 200 iterations. The wall clock time was only 1 second. The SLSQP optimizer was used. I suggest trying an interior point optimizer such as IPOPT or SNOPT.',\n",
       " 'Unrelated Observations': 'The problem is formulated with an unusually high lift coefficient of 2.0. This is probably outside of the linear region. I also observe that the plots do not seem to be normalized which makes it harder to read.'}"
      ]
     },
     "execution_count": 41,
     "metadata": {},
     "output_type": "execute_result"
    }
   ],
   "source": [
    "results_output"
   ]
  },
  {
   "cell_type": "code",
   "execution_count": 19,
   "metadata": {},
   "outputs": [],
   "source": [
    "#Analyze the results without RAG#\n",
    "#Geometry Setup\n",
    "ReportPrompt  = f\"\"\"The initial problem by the user is: {User_Request}, the reformulated problem is: {reformulator_output}, the analysis by the LLM is {results_output}\"\"\"\n",
    "\n",
    "report_setup = ReportWriter()\n",
    "report_output = report_setup.execute_task(ReportPrompt)"
   ]
  },
  {
   "cell_type": "code",
   "execution_count": 20,
   "metadata": {},
   "outputs": [],
   "source": [
    "#Write the latex output into /Users/conan/Desktop/LLM_Aerospace_Research/LLM_OpenAeroStruct/Figures/Report.tex and replace the original file.\n",
    "\n",
    "report_file = \"/Users/conan/Desktop/LLM_Aerospace_Research/LLM_OpenAeroStruct/Figures/Report.tex\"\n",
    "with open(report_file, \"w\") as file:\n",
    "    file.write(report_output[\"ReportText\"])"
   ]
  }
 ],
 "metadata": {
  "kernelspec": {
   "display_name": ".venv",
   "language": "python",
   "name": "python3"
  },
  "language_info": {
   "codemirror_mode": {
    "name": "ipython",
    "version": 3
   },
   "file_extension": ".py",
   "mimetype": "text/x-python",
   "name": "python",
   "nbconvert_exporter": "python",
   "pygments_lexer": "ipython3",
   "version": "3.13.2"
  }
 },
 "nbformat": 4,
 "nbformat_minor": 2
}
