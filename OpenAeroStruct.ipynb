{
 "cells": [
  {
   "cell_type": "markdown",
   "metadata": {},
   "source": [
    "### LLM OpenAeroStruct"
   ]
  },
  {
   "cell_type": "markdown",
   "metadata": {},
   "source": [
    "#### A multiagent tool to write optimization code for OpenAeroStruct with simply high level inputs from the user, i.e. I want to design a sweeped rectangular wing with elliptical lift distribution"
   ]
  },
  {
   "cell_type": "code",
   "execution_count": 1,
   "metadata": {},
   "outputs": [],
   "source": [
    "# Import the generative ai library\n",
    "import google.generativeai as genai #type: ignore\n",
    "\n",
    "# Import all the modules necessary to run OpenAeroStruct and paths\n",
    "import re\n",
    "import time\n",
    "import os\n",
    "import subprocess\n",
    "import warnings\n",
    "import numpy as np\n",
    "import pandas as pd #type: ignore\n",
    "import openmdao.api as om\n",
    "import json\n",
    "\n",
    "# import OpenAeroStruct modules\n",
    "from openaerostruct.geometry.utils import generate_mesh  # helper functions to generate mesh\n",
    "from openaerostruct.geometry.geometry_group import Geometry\n",
    "from openaerostruct.aerodynamics.aero_groups import AeroPoint\n",
    "\n",
    "# Import the plotting libraries\n",
    "import matplotlib.pyplot as plt\n",
    "#import plotly.graph_objects as go\n",
    "import niceplots  # Optional but recommended\n",
    "\n",
    "#Ignore warnings and use the nice plots style\n",
    "warnings.filterwarnings(\"ignore\")\n",
    "\n",
    "plt.style.use(\n",
    "    niceplots.get_style(\"james-dark\")\n",
    ")  # Options: \"doumont-light\", \"doumont-dark\", \"james-light\", \"james-dark\""
   ]
  },
  {
   "cell_type": "code",
   "execution_count": 2,
   "metadata": {},
   "outputs": [],
   "source": [
    "#Import the relevant agents\n",
    "from Agents import ReformulatorAgent\n",
    "from Agents import BaseMeshAgent\n",
    "from Agents import GeometryAgent\n",
    "from Agents import OptimizerAgent\n",
    "from Agents import ResultsReaderAgent\n",
    "from Agents import ReportWriter\n",
    "from Agents import RetrievalAgent\n",
    "from RAG_Retrieval import run_retriever"
   ]
  },
  {
   "cell_type": "code",
   "execution_count": 3,
   "metadata": {},
   "outputs": [
    {
     "data": {
      "text/plain": [
       "'HERE ARE SOME BACKUP PROMPTS'"
      ]
     },
     "execution_count": 3,
     "metadata": {},
     "output_type": "execute_result"
    }
   ],
   "source": [
    "# Define the initial sample query from the user.\n",
    "User_Request = \"\"\"For this design, we will keep the area at S = 100 m2. The span is b = 10 m. The cruise condition corresponds to CL = 2.0. Your job is to minimize drag at the condition of CL = 2.0 and you have complete freedom in the taper, twist, and sweep of the wing. Make a plot of the elliptical lift distribution.\"\"\"\n",
    "\n",
    "\"\"\"HERE ARE SOME BACKUP PROMPTS\"\"\"\n",
    "#User_Request  = \"\"\"For this design, we will keep the area constant at S = 400 m2. The span is b = 60 m. The cruise condition corresponds to CL = 0.5. Your job is to minimize drag at the condition of CL = 0.5 and you have complete freedom in the taper and sweep of the wing. Make a plot of the elliptical lift distribution.\"\"\"\n",
    "#User_Request  = \"\"\"For this design, we will keep the area constant at S = 400 m2. The span is b = 60 m. The cruise condition corresponds to CL = 0.5. Your job is to minimize drag at the condition of CL = 0.5 and you have complete freedom in the taper, twist, and sweep of the wing. Make a plot of the elliptical lift distribution.\"\"\"\n",
    "#User_Request  = \"\"\"For this design, we will keep the area at S = 100 m2. The span is b = 10 m. The cruise condition corresponds to CL = 2.0. Your job is to minimize drag at the condition of CL = 2.0 and you have complete freedom in the taper, twist, and sweep of the wing. Make a plot of the elliptical lift distribution.\"\"\"\n",
    "#User_Request = \"\"\"For this design, we will keep the area constant at S = 400 m2. The span is b = 60 m. The cruise condition corresponds to CL = 0.5. Your job is to minimize drag at the condition of CL = 0.5 and you have complete freedom in the taper, dihedral, twist, and sweep of the wing. Make a plot of the elliptical lift distribution.\"\"\""
   ]
  },
  {
   "cell_type": "code",
   "execution_count": 4,
   "metadata": {},
   "outputs": [],
   "source": [
    "error_gen_flag = False\n",
    "while not error_gen_flag:\n",
    "    reformulator = ReformulatorAgent()\n",
    "    reformulator_output = reformulator.execute_task(User_Request)\n",
    "\n",
    "    if reformulator_output is not None:\n",
    "        error_gen_flag = True"
   ]
  },
  {
   "cell_type": "code",
   "execution_count": 5,
   "metadata": {},
   "outputs": [
    {
     "name": "stdout",
     "output_type": "stream",
     "text": [
      "Reformulator Output:\n",
      "{'objective_function': 'Minimize drag', 'trim_condition': 'CL = 2.0', 'geometric_constraint': 'Wing area (S) = 100 m^2, Span (b) = 10 m', 'design_variables': 'Taper, Twist, Sweep', 'baseline_wing_mesh': 'rect', 'optimization_algorithm': 'SLSQP', 'plotting_requirements': 'Elliptical lift distribution', 'errors': ''}\n"
     ]
    }
   ],
   "source": [
    "print(\"Reformulator Output:\")\n",
    "print(reformulator_output)"
   ]
  },
  {
   "cell_type": "markdown",
   "metadata": {},
   "source": [
    "#### Now start writing the file into RunOAS to prepare for the optimization and plotting script using LLM."
   ]
  },
  {
   "cell_type": "code",
   "execution_count": 6,
   "metadata": {},
   "outputs": [],
   "source": [
    "#Write the mesh prompt\n",
    "error_gen_flag = False\n",
    "while not error_gen_flag:\n",
    "    MeshPrompt  = f\"\"\"For this wing desgin, the geometric parameters are as follows: {reformulator_output[\"geometric_constraint\"]}, and the type of the wing mesh should be: {reformulator_output[\"baseline_wing_mesh\"]}\"\"\"\n",
    "    mesher = BaseMeshAgent()\n",
    "    mesher_output = mesher.execute_task(MeshPrompt)\n",
    "\n",
    "    if mesher_output[\"python_code\"] is not None:\n",
    "        error_gen_flag = True"
   ]
  },
  {
   "cell_type": "code",
   "execution_count": 7,
   "metadata": {},
   "outputs": [
    {
     "name": "stdout",
     "output_type": "stream",
     "text": [
      "mesh_dict = {\n",
      "    \"num_y\": 19, #number of panels in the y direction, 19 is a good starting number\n",
      "    \"num_x\": 3, #number of panels in the x direction, 3 is a good starting number\n",
      "    \"wing_type\": \"rect\", #This can either be \"rect\" or \"crm\" only\n",
      "    \"symmetry\": True, # True if the wing is symmetric, False if it is not, wings are typically symmetric\n",
      "    \"span\": 10.0, #This is the full span of the wing in meters\n",
      "    \"root_chord\": 10.0, #This is the root chord of the wing in meters\n",
      "    \"span_cos_spacing\": 0.0, #This is usually not edited\n",
      "    \"chord_cos_spacing\": 0.0, #This is usually not edited\n",
      "}\n",
      "\n",
      "# Generate VLM mesh for half-wing\n",
      "mesh = generate_mesh(mesh_dict)   # this creates a rectangular wing mesh, DO NOT EDIT THIS LINE\n",
      "\n",
      "# plot mesh\n",
      "plot_mesh(mesh)  #this plots the rectangular wing mesh, DO NOT EDIT THIS LINE\n",
      "{'calculations_and_explain': \"The task requires generating OpenAeroStruct mesh code for a rectangular wing given the wing area and span. The wing type is specified as 'rect'. I first calculate the root chord using the formula: root_chord = area / span. Once the root chord is caclulated the code is generated using these values\", 'python_code': 'mesh_dict = {\\n    \"num_y\": 19, #number of panels in the y direction, 19 is a good starting number\\n    \"num_x\": 3, #number of panels in the x direction, 3 is a good starting number\\n    \"wing_type\": \"rect\", #This can either be \"rect\" or \"crm\" only\\n    \"symmetry\": True, # True if the wing is symmetric, False if it is not, wings are typically symmetric\\n    \"span\": 10.0, #This is the full span of the wing in meters\\n    \"root_chord\": 10.0, #This is the root chord of the wing in meters\\n    \"span_cos_spacing\": 0.0, #This is usually not edited\\n    \"chord_cos_spacing\": 0.0, #This is usually not edited\\n}\\n\\n# Generate VLM mesh for half-wing\\nmesh = generate_mesh(mesh_dict)   # this creates a rectangular wing mesh, DO NOT EDIT THIS LINE\\n\\n# plot mesh\\nplot_mesh(mesh)  #this plots the rectangular wing mesh, DO NOT EDIT THIS LINE'}\n"
     ]
    }
   ],
   "source": [
    "print(mesher_output[\"python_code\"])\n",
    "print(mesher_output)"
   ]
  },
  {
   "cell_type": "code",
   "execution_count": 8,
   "metadata": {},
   "outputs": [],
   "source": [
    "#Geometry Setup\n",
    "error_gen_flag = False\n",
    "while not error_gen_flag:\n",
    "    GeometryPrompt  = f\"\"\"For this wing desgin, we are allowed to change the following parameters: {reformulator_output[\"design_variables\"]}\"\"\"\n",
    "    geometry_setup = GeometryAgent()\n",
    "    geometry_output = geometry_setup.execute_task(GeometryPrompt)\n",
    "\n",
    "    if geometry_output[\"python_code\"] is not None:\n",
    "        error_gen_flag = True"
   ]
  },
  {
   "cell_type": "code",
   "execution_count": 9,
   "metadata": {},
   "outputs": [
    {
     "name": "stdout",
     "output_type": "stream",
     "text": [
      "surface = {\n",
      "    # Wing definition, KEEP THE SAME UNLESS ASKED TO CHANGE\n",
      "    \"name\": \"wing\",  # name of the surface, keep as wing\n",
      "    \"symmetry\": True,  # if true, model one half of wing reflected across the plane y = 0\n",
      "    \"S_ref_type\": \"wetted\",  # how we compute the wing area, can be 'wetted' or 'projected'\n",
      "    \"mesh\": mesh,\n",
      "\n",
      "    # Aerodynamic performance of the lifting surface at an angle of attack of 0 (alpha=0).\n",
      "    # These CL0 and CD0 values are added to the CL and CD obtained from aerodynamic analysis of the surface to get the total CL and CD.\n",
      "    # These CL0 and CD0 values do not vary wrt alpha. DO NOT EDIT THEM UNLESS ASKED TO.\n",
      "    \"CL0\": 0.0,  # CL of the surface at alpha=0\n",
      "    \"CD0\": 0.0,  # CD of the surface at alpha=0\n",
      "\n",
      "    # Airfoil properties for viscous drag calculation, DO NOT CHANGE UNLESS ASKED TO\n",
      "    \"k_lam\": 0.05,  # percentage of chord with laminar flow, used for viscous drag\n",
      "    \"c_max_t\": 0.303,  # chordwise location of maximum (NACA0015)\n",
      "    \"t_over_c_cp\": np.array([0.12]),  # thickness-to-chord ratio\n",
      "\n",
      "    # DO NOT CHANGE UNLESS ASKED TO, type of analysis, wave for high mach number, viscous to model viscous drag\n",
      "    \"with_viscous\": True,  # if true, compute viscous drag,\n",
      "    \"with_wave\": False,\n",
      "\n",
      "    # Useful options for changing the wing geometry, CHANGE THESE\n",
      "    #\"chord_cp\": np.ones(3),  # if chord cp is allowed to be optimized, uncomment this line and change the value for how many points for the bspline to change the chord, default is 3\n",
      "    \"taper\" : 0.4, # if the wing can be tapered, uncomment this line and change the initial value for how much taper, default is 0.4\n",
      "    \"sweep\" : 28.0, # if the wing can be swept, uncomment this line and change the initial value for how much sweep, default is 28.0\n",
      "    #\"dihedral\": 3.0, # if the wing has dihedral, uncomment this line and change the initial value for how much dihedral, default is 3.0\n",
      "    \"twist_cp\" : np.zeros(2),  # if the wing can be twisted, uncomment this line and change the value for how many points for the bspline to change the twist, default is 4\n",
      "}  # end of surface dictionary\n",
      "{'calculations_and_explain': 'The problem requires us to enable the optimization of taper, sweep and twist. Thus, I will uncomment the relevant lines in the provided dictionary and assign them default values.', 'python_code': 'surface = {\\n    # Wing definition, KEEP THE SAME UNLESS ASKED TO CHANGE\\n    \"name\": \"wing\",  # name of the surface, keep as wing\\n    \"symmetry\": True,  # if true, model one half of wing reflected across the plane y = 0\\n    \"S_ref_type\": \"wetted\",  # how we compute the wing area, can be \\'wetted\\' or \\'projected\\'\\n    \"mesh\": mesh,\\n\\n    # Aerodynamic performance of the lifting surface at an angle of attack of 0 (alpha=0).\\n    # These CL0 and CD0 values are added to the CL and CD obtained from aerodynamic analysis of the surface to get the total CL and CD.\\n    # These CL0 and CD0 values do not vary wrt alpha. DO NOT EDIT THEM UNLESS ASKED TO.\\n    \"CL0\": 0.0,  # CL of the surface at alpha=0\\n    \"CD0\": 0.0,  # CD of the surface at alpha=0\\n\\n    # Airfoil properties for viscous drag calculation, DO NOT CHANGE UNLESS ASKED TO\\n    \"k_lam\": 0.05,  # percentage of chord with laminar flow, used for viscous drag\\n    \"c_max_t\": 0.303,  # chordwise location of maximum (NACA0015)\\n    \"t_over_c_cp\": np.array([0.12]),  # thickness-to-chord ratio\\n\\n    # DO NOT CHANGE UNLESS ASKED TO, type of analysis, wave for high mach number, viscous to model viscous drag\\n    \"with_viscous\": True,  # if true, compute viscous drag,\\n    \"with_wave\": False,\\n\\n    # Useful options for changing the wing geometry, CHANGE THESE\\n    #\"chord_cp\": np.ones(3),  # if chord cp is allowed to be optimized, uncomment this line and change the value for how many points for the bspline to change the chord, default is 3\\n    \"taper\" : 0.4, # if the wing can be tapered, uncomment this line and change the initial value for how much taper, default is 0.4\\n    \"sweep\" : 28.0, # if the wing can be swept, uncomment this line and change the initial value for how much sweep, default is 28.0\\n    #\"dihedral\": 3.0, # if the wing has dihedral, uncomment this line and change the initial value for how much dihedral, default is 3.0\\n    \"twist_cp\" : np.zeros(2),  # if the wing can be twisted, uncomment this line and change the value for how many points for the bspline to change the twist, default is 4\\n}  # end of surface dictionary'}\n"
     ]
    }
   ],
   "source": [
    "print(geometry_output[\"python_code\"])\n",
    "print(geometry_output)"
   ]
  },
  {
   "cell_type": "code",
   "execution_count": 10,
   "metadata": {},
   "outputs": [],
   "source": [
    "# Optimization Setup\n",
    "error_gen_flag = False\n",
    "while not error_gen_flag:\n",
    "    OptimizerPrompt  = f\"\"\"For this wing desgin, the optimization parameters are as follows: {reformulator_output[\"design_variables\"]}, the objective function is {reformulator_output[\"objective_function\"]}, the geometric constraints are {reformulator_output[\"geometric_constraint\"]}, the flight condition is {reformulator_output[\"trim_condition\"]}, and the optimization algorithm is {reformulator_output[\"optimization_algorithm\"]}\"\"\"\n",
    "    optimizer_setup = OptimizerAgent()\n",
    "    optimizer_output = optimizer_setup.execute_task(OptimizerPrompt)\n",
    "\n",
    "    if optimizer_output[\"python_code\"] is not None:\n",
    "        error_gen_flag = True"
   ]
  },
  {
   "cell_type": "code",
   "execution_count": 11,
   "metadata": {},
   "outputs": [
    {
     "name": "stdout",
     "output_type": "stream",
     "text": [
      "# Instantiate the problem and the model group\n",
      "prob = om.Problem()\n",
      "\n",
      "# Define flight conditions\n",
      "Mach_number = 0.5 # You can change this if the user specifies a different Mach number\n",
      "rho = 1.225\n",
      "v = Mach_number * 340  # freestream speed, m/s\n",
      "Re_c = rho * v / 1.81e-5  # Reynolds number / characteristic length, 1/m\n",
      "\n",
      "indep_var_comp = om.IndepVarComp()\n",
      "indep_var_comp.add_output(\"v\", val=v, units=\"m/s\")  # Freestream Velocity\n",
      "indep_var_comp.add_output(\n",
      "    \"alpha\", val=0.0, units=\"deg\"\n",
      ") \n",
      "indep_var_comp.add_output(\"Mach_number\", val=Mach_number)  # Freestream Mach number\n",
      "indep_var_comp.add_output(\"re\", val=Re_c, units=\"1/m\")  # Freestream Reynolds number times chord length\n",
      "indep_var_comp.add_output(\"rho\", val=rho, units=\"kg/m**3\")  # Freestream air density\n",
      "indep_var_comp.add_output(\"cg\", val=np.zeros((3)), units=\"m\")  # Aircraft center of gravity\n",
      "prob.model.add_subsystem(\"flight_vars\", indep_var_comp, promotes=[\"*\"])\n",
      "\n",
      "# Setup OpenAeroStruct model\n",
      "name = surface[\"name\"]\n",
      "\n",
      "# Add geometry group to the problem and add wing suface as a sub group.\n",
      "# These groups are responsible for manipulating the geometry of the mesh, in this case spanwise twist.\n",
      "geom_group = Geometry(surface=surface)\n",
      "prob.model.add_subsystem(name, geom_group)\n",
      "\n",
      "# Create the aero point group for this flight condition and add it to the model\n",
      "aero_group = AeroPoint(surfaces=[surface], rotational=True)\n",
      "point_name = \"flight_condition_0\"\n",
      "prob.model.add_subsystem(\n",
      "    point_name,\n",
      "    aero_group,\n",
      "    promotes_inputs=[\n",
      "        \"v\",\n",
      "        \"alpha\",\n",
      "        \"beta\",\n",
      "        \"omega\",\n",
      "        \"Mach_number\",\n",
      "        \"re\",\n",
      "        \"rho\",\n",
      "        \"cg\",\n",
      "    ],\n",
      ")\n",
      "\n",
      "# Connect the mesh from the geometry component to the analysis point\n",
      "prob.model.connect(name + \".mesh\", point_name + \".\" + name + \".def_mesh\")\n",
      "\n",
      "# Perform the connections with the modified names within the 'aero_states' group.\n",
      "prob.model.connect(name + \".mesh\", point_name + \".aero_states.\" + name + \"_def_mesh\")\n",
      "\n",
      "# Connect the parameters within the model for each aero point\n",
      "prob.model.connect(name + \".t_over_c\", point_name + \".\" + name + \"_perf.\" + \"t_over_c\")\n",
      "\n",
      "########## THIS IS THE PART TO EDIT ##########\n",
      "#If the variables are not specified, you can comment them out, you can also change the upper and lower bounds.\n",
      "#You are also allowed to add the design varaibles, constraints, and objectives here like chord_cp, twist_cp, taper, sweep, dihedral etc.\n",
      "#The way to add them is wing.\"var_name\" and the lower and upper bounds are in the form of lower=0.0, upper=1.0\n",
      "#these are the var names that you can use taper = taper, sweep = sweep, chord_cp = chord_cp, twist_cp = twist_cp, dihedral = dihedral\n",
      "#remember to add alpha as a design variable if CL is a constraint. \n",
      "#DO NOT ADD THE AREA AND SPAN CONSTRAINTS HERE AS THEY DO NOT WORK YET.\n",
      "\n",
      "prob.model.add_design_var('alpha', units='deg', lower=0., upper=10.)\n",
      "prob.model.add_design_var('wing.taper', lower=0.2, upper=1.0)  # Example bounds for taper\n",
      "prob.model.add_design_var('wing.twist_cp', lower=-10.0, upper=10.0, units='deg')  # Example bounds for twist\n",
      "prob.model.add_design_var('wing.sweep', lower=0.0, upper=30.0, units='deg')  # Example bounds for sweep\n",
      "prob.model.add_constraint('flight_condition_0.wing_perf.CL', equals=2.0)  # Impose CL = 2.0\n",
      "prob.model.add_objective('flight_condition_0.wing_perf.CD', ref=0.01)  # Minimize CD\n",
      "############# THIS END OF THE PART TO EDIT ##########\n",
      "\n",
      "# use Scipy's SLSQP optimization\n",
      "prob.driver = om.ScipyOptimizeDriver()\n",
      "prob.driver.options['optimizer'] = 'SLSQP'\n",
      "\n",
      "# record optimization history\n",
      "recorder = om.SqliteRecorder(\"aero.db\")\n",
      "prob.driver.add_recorder(recorder)\n",
      "prob.driver.recording_options[\"includes\"] = [\"*\"]\n",
      "\n",
      "prob.setup()\n",
      "prob.run_driver()\n",
      "\n",
      "#print results\n",
      "print(\"\\nAngle of attack =\", prob.get_val(\"alpha\", units=\"deg\")[0], \"deg\")\n",
      "print(\"CL = \", prob.get_val(\"flight_condition_0.wing_perf.CL\")[0])\n",
      "print(\"CD = \", prob.get_val(\"flight_condition_0.wing_perf.CD\")[0])\n",
      "{'calculations_and_explain': \"Based on the instructions, I need to create an OpenAeroStruct optimization script that considers taper, twist, and sweep as design variables. The script will minimize drag while targeting a specific lift coefficient (CL = 2.0). The optimization algorithm is SLSQP. I will use the provided code sample to structure the script. I will ensure that wing area and span are NOT constrained, as per the instructions. \\n\\nHere's how I'll modify the provided code sample:\\n\\n1.  **Design Variables:** Add `taper`, `twist_cp`, and `sweep` as design variables, defining appropriate lower and upper bounds.\\n2.  **Constraint:**  The constraint is to achieve a lift coefficient of CL = 2.0.  I will set the constraint `flight_condition_0.wing_perf.CL` to 2.0.\\n3.  **Objective Function:** The objective is to minimize drag. This is already set up as `flight_condition_0.wing_perf.CD` with a reference value.\\n4.  **No Area or Span Constraints:** Ensure that there are no constraints on `wing.S_ref` or `wing.b_half_w`.\\n5.  **Alpha:** Add alpha as a design variable because CL is a constraint\\n\\nI will then set up the problem, driver, and recorder, and finally run the optimization.\", 'python_code': '# Instantiate the problem and the model group\\nprob = om.Problem()\\n\\n# Define flight conditions\\nMach_number = 0.5 # You can change this if the user specifies a different Mach number\\nrho = 1.225\\nv = Mach_number * 340  # freestream speed, m/s\\nRe_c = rho * v / 1.81e-5  # Reynolds number / characteristic length, 1/m\\n\\nindep_var_comp = om.IndepVarComp()\\nindep_var_comp.add_output(\"v\", val=v, units=\"m/s\")  # Freestream Velocity\\nindep_var_comp.add_output(\\n    \"alpha\", val=0.0, units=\"deg\"\\n) \\nindep_var_comp.add_output(\"Mach_number\", val=Mach_number)  # Freestream Mach number\\nindep_var_comp.add_output(\"re\", val=Re_c, units=\"1/m\")  # Freestream Reynolds number times chord length\\nindep_var_comp.add_output(\"rho\", val=rho, units=\"kg/m**3\")  # Freestream air density\\nindep_var_comp.add_output(\"cg\", val=np.zeros((3)), units=\"m\")  # Aircraft center of gravity\\nprob.model.add_subsystem(\"flight_vars\", indep_var_comp, promotes=[\"*\"])\\n\\n# Setup OpenAeroStruct model\\nname = surface[\"name\"]\\n\\n# Add geometry group to the problem and add wing suface as a sub group.\\n# These groups are responsible for manipulating the geometry of the mesh, in this case spanwise twist.\\ngeom_group = Geometry(surface=surface)\\nprob.model.add_subsystem(name, geom_group)\\n\\n# Create the aero point group for this flight condition and add it to the model\\naero_group = AeroPoint(surfaces=[surface], rotational=True)\\npoint_name = \"flight_condition_0\"\\nprob.model.add_subsystem(\\n    point_name,\\n    aero_group,\\n    promotes_inputs=[\\n        \"v\",\\n        \"alpha\",\\n        \"beta\",\\n        \"omega\",\\n        \"Mach_number\",\\n        \"re\",\\n        \"rho\",\\n        \"cg\",\\n    ],\\n)\\n\\n# Connect the mesh from the geometry component to the analysis point\\nprob.model.connect(name + \".mesh\", point_name + \".\" + name + \".def_mesh\")\\n\\n# Perform the connections with the modified names within the \\'aero_states\\' group.\\nprob.model.connect(name + \".mesh\", point_name + \".aero_states.\" + name + \"_def_mesh\")\\n\\n# Connect the parameters within the model for each aero point\\nprob.model.connect(name + \".t_over_c\", point_name + \".\" + name + \"_perf.\" + \"t_over_c\")\\n\\n########## THIS IS THE PART TO EDIT ##########\\n#If the variables are not specified, you can comment them out, you can also change the upper and lower bounds.\\n#You are also allowed to add the design varaibles, constraints, and objectives here like chord_cp, twist_cp, taper, sweep, dihedral etc.\\n#The way to add them is wing.\"var_name\" and the lower and upper bounds are in the form of lower=0.0, upper=1.0\\n#these are the var names that you can use taper = taper, sweep = sweep, chord_cp = chord_cp, twist_cp = twist_cp, dihedral = dihedral\\n#remember to add alpha as a design variable if CL is a constraint. \\n#DO NOT ADD THE AREA AND SPAN CONSTRAINTS HERE AS THEY DO NOT WORK YET.\\n\\nprob.model.add_design_var(\\'alpha\\', units=\\'deg\\', lower=0., upper=10.)\\nprob.model.add_design_var(\\'wing.taper\\', lower=0.2, upper=1.0)  # Example bounds for taper\\nprob.model.add_design_var(\\'wing.twist_cp\\', lower=-10.0, upper=10.0, units=\\'deg\\')  # Example bounds for twist\\nprob.model.add_design_var(\\'wing.sweep\\', lower=0.0, upper=30.0, units=\\'deg\\')  # Example bounds for sweep\\nprob.model.add_constraint(\\'flight_condition_0.wing_perf.CL\\', equals=2.0)  # Impose CL = 2.0\\nprob.model.add_objective(\\'flight_condition_0.wing_perf.CD\\', ref=0.01)  # Minimize CD\\n############# THIS END OF THE PART TO EDIT ##########\\n\\n# use Scipy\\'s SLSQP optimization\\nprob.driver = om.ScipyOptimizeDriver()\\nprob.driver.options[\\'optimizer\\'] = \\'SLSQP\\'\\n\\n# record optimization history\\nrecorder = om.SqliteRecorder(\"aero.db\")\\nprob.driver.add_recorder(recorder)\\nprob.driver.recording_options[\"includes\"] = [\"*\"]\\n\\nprob.setup()\\nprob.run_driver()\\n\\n#print results\\nprint(\"\\\\nAngle of attack =\", prob.get_val(\"alpha\", units=\"deg\")[0], \"deg\")\\nprint(\"CL = \", prob.get_val(\"flight_condition_0.wing_perf.CL\")[0])\\nprint(\"CD = \", prob.get_val(\"flight_condition_0.wing_perf.CD\")[0])'}\n"
     ]
    }
   ],
   "source": [
    "print(optimizer_output[\"python_code\"])\n",
    "print(optimizer_output)"
   ]
  },
  {
   "cell_type": "code",
   "execution_count": 12,
   "metadata": {},
   "outputs": [
    {
     "name": "stdout",
     "output_type": "stream",
     "text": [
      "Created RunOAS.py file with all generated code sections\n"
     ]
    }
   ],
   "source": [
    "#Write the chunks of code into the template file and run it\n",
    "template_file = \"RunOAS_template.py\"\n",
    "\n",
    "#It should then find \"\"\"Part 1: PUT THE BASELINE MESH OF THE WING HERE\"\"\" then add print(\"hi\") after it\n",
    "with open(template_file, \"r\") as file:\n",
    "    template_code = file.read()\n",
    "    \n",
    "    # Replace all placeholders with the generated code\n",
    "    template_code = template_code.replace(\n",
    "        '\"\"\"Part 1: PUT THE BASELINE MESH OF THE WING HERE\"\"\"',\n",
    "        f'\"\"\"Part 1: PUT THE BASELINE MESH OF THE WING HERE\"\"\"\\n{mesher_output[\"python_code\"]}'\n",
    "    )\n",
    "    template_code = template_code.replace(\n",
    "        '\"\"\"Part 2:  DO THE GEOMETRY SETUP HERE\"\"\"',\n",
    "        f'\"\"\"Part 2:  DO THE GEOMETRY SETUP HERE\"\"\"\\n{geometry_output[\"python_code\"]}'\n",
    "    )\n",
    "    template_code = template_code.replace(\n",
    "        '\"\"\"Part 3: PUT THE OPTIMIZER HERE \"\"\"',\n",
    "        f'\"\"\"Part 3: PUT THE OPTIMIZER HERE \"\"\"\\n{optimizer_output[\"python_code\"]}'\n",
    "    )\n",
    "\n",
    "# Write the modified code to a new file instead of modifying the template\n",
    "run_oas_file = \"RunOAS.py\"\n",
    "with open(run_oas_file, \"w\") as file:\n",
    "    file.write(template_code)\n",
    "\n",
    "print(\"Created RunOAS.py file with all generated code sections\")"
   ]
  },
  {
   "cell_type": "code",
   "execution_count": 13,
   "metadata": {},
   "outputs": [],
   "source": [
    "# Now run the script using a subprocess, also capture all the outputs, and save it as a text file.\n",
    "output_file = \"output.txt\"\n",
    "with open(output_file, \"w\") as file:\n",
    "    # Run the script and capture the output\n",
    "    process = subprocess.Popen([\"python3\", run_oas_file], stdout=subprocess.PIPE, stderr=subprocess.PIPE)\n",
    "    stdout, stderr = process.communicate()\n",
    "\n",
    "    # Decode the output and write it to the file\n",
    "    file.write(stdout.decode())\n",
    "    file.write(stderr.decode())"
   ]
  },
  {
   "cell_type": "markdown",
   "metadata": {},
   "source": [
    "### After Running the Optimization, the LLM should then have access to the plots then analyze the results"
   ]
  },
  {
   "cell_type": "code",
   "execution_count": 14,
   "metadata": {},
   "outputs": [
    {
     "name": "stdout",
     "output_type": "stream",
     "text": [
      "Converting HTML report to PDF...\n",
      "Successfully converted to PDF: ./Figures/Opt_History.pdf\n"
     ]
    }
   ],
   "source": [
    "HTML_Report = \"RunOAS_out/reports/opt_report.html\"\n",
    "pdf_output_path = \"./Figures/Opt_History.pdf\"\n",
    "\n",
    "# Convert HTML report to PDF using pandoc\n",
    "try:\n",
    "    # Check if the HTML file exists\n",
    "    if not os.path.exists(HTML_Report):\n",
    "        print(f\"Error: HTML report not found at {HTML_Report}\")\n",
    "    else:\n",
    "        print(\"Converting HTML report to PDF...\")\n",
    "        # Use subprocess to call pandoc for the conversion\n",
    "        result = subprocess.run(\n",
    "            [\n",
    "                \"pandoc\", HTML_Report,\n",
    "                \"-o\", pdf_output_path,\n",
    "                \"--pdf-engine=/Library/TeX/texbin/pdflatex\",\n",
    "                \"-V\", \"geometry:landscape,a4paper\",  # Landscape + specific paper size\n",
    "                \"-V\", \"geometry:margin=5mm\",        # Reduce margins\n",
    "                \"-V\", \"geometry:includeheadfoot\",    # Use full page area\n",
    "                \"--variable\", \"mainfont=Helvetica\",  # More compact font\n",
    "                \"--variable\", \"fontsize=5pt\"        # Smaller base font size\n",
    "            ],\n",
    "            capture_output=True,\n",
    "            text=True\n",
    "        )\n",
    "        \n",
    "        if result.returncode == 0:\n",
    "            print(f\"Successfully converted to PDF: {pdf_output_path}\")\n",
    "        else:\n",
    "            print(f\"Error converting to PDF: {result.stderr}\")\n",
    "except Exception as e:\n",
    "    print(f\"An error occurred: {str(e)}\")"
   ]
  },
  {
   "cell_type": "code",
   "execution_count": 15,
   "metadata": {},
   "outputs": [
    {
     "name": "stdout",
     "output_type": "stream",
     "text": [
      "\n"
     ]
    }
   ],
   "source": [
    "def run_plot_wing(file_path):\n",
    "    \"\"\"\n",
    "    Execute the plot_wing command on a specified aero.db file\n",
    "    \n",
    "    Args:\n",
    "        file_path (str): Path to the aero.db file\n",
    "    \"\"\"\n",
    "    if not os.path.exists(file_path):\n",
    "        print(f\"Error: File '{file_path}' does not exist.\")\n",
    "        return\n",
    "        \n",
    "    try:\n",
    "        # Run plot_wing command and capture output\n",
    "        result = subprocess.run([\"plot_wing\", file_path], \n",
    "                               capture_output=True, \n",
    "                               text=True, \n",
    "                               check=True)\n",
    "        print(result.stdout)\n",
    "    except subprocess.CalledProcessError as e:\n",
    "        print(f\"Command failed with error code {e.returncode}\")\n",
    "        print(f\"Error message: {e.stderr}\")\n",
    "    except FileNotFoundError:\n",
    "        print(\"Error: 'plot_wing' command not found. Please ensure it's installed and in your PATH and follow the changes to the plot_wing function shown in readme.\")\n",
    "\n",
    "# Example usage\n",
    "file_path = \"RunOAS_out/aero.db\"\n",
    "run_plot_wing(file_path)"
   ]
  },
  {
   "cell_type": "code",
   "execution_count": 17,
   "metadata": {},
   "outputs": [
    {
     "name": "stdout",
     "output_type": "stream",
     "text": [
      "Please provide detailed information regarding the following variables used in aerodynamic wing optimization: Taper ratio, Twist angle, Sweep angle, Wing Area (S), and Wing Span (b).  Specifically, I need definitions, typical ranges, units of measurement, and their impact on aerodynamic performance and optimization processes.\n",
      "The latter approach is only viable when the designer has enough experience to know what consti-\n",
      "tutes a desirable lift distribution. The ﬁrst approach is often combined with numerical optimization.\n",
      "Wing lift distribution is an important consideration in wing design. The spanwise lift distribu-\n",
      "tion is closely related to the wing geometry and determines wing performance characteristics such\n",
      "as induced drag, structural weight, and stalling characteristics. A reasonable lift andCl distribution\n",
      "provides a good starting point in the design of a wing.\n",
      "6.1 Wing Design Parameters\n",
      "The major wing design parameters can be divided into two levels. The ﬁrst level design parameters\n",
      "are generally more inﬂuential and should be determined ﬁrst. They are:\n",
      "• Span\n",
      "• Area\n",
      "• Thickness\n",
      "• Sweep\n",
      "The second level design parameters are important, but they can be determined at a later stage\n",
      "because the trade-o↵s between the ﬁrst level design parameters and the rest of the aircraft are\n",
      "structural design and the engine performance as well as the aircraft aerodynamics. The bestCL\n",
      "for the wing is not the best for the aircraft as a whole. An example of this is seen by considering a\n",
      "ﬁxed CL, ﬁxed Mach design. If we ﬂy higher, the wing area must be increased by the wing drag is\n",
      "nearly constant. The fuselage drag decreases, though; so we can minimize drag by ﬂying very high\n",
      "with very large wings. This is not feasible because of considerations such as engine performance.\n",
      "Aspect ratio is directly related to the wing area and wing span and is deﬁned as:\n",
      "AR = b2\n",
      "Sref\n",
      ", (6.1)\n",
      "where Sref should be the same as the one used in the deﬁnition ofCL and CD.\n",
      "AE481 Aircraft Design—J.R.R.A. Martins 60 Sunday 17 th October, 2021 at 06:26\n",
      "1. The optimum is quite ﬂat and one must stretch the span a great deal to reach the actual\n",
      "optimum.\n",
      "2. As span is increases, so does wing bending which can negatively a↵ect stability and ﬂutter\n",
      "characteristics.\n",
      "3. The cost of the wing itself increases as the structural weight increases.\n",
      "4. The volume of the wing in which fuel can be stored is reduced.\n",
      "5. It becomes more di\u0000cult to locate the main landing gear at the root of the wing.\n",
      "6. The Reynolds number of wing sections is reduced, increasing parasite drag and reducing\n",
      "7. Span might be restricted by the infrastructure (airport gates, hangars) maximum lift capa-\n",
      "bility.\n",
      "6.1.2 Area\n",
      "The wing area, like the span, is chosen based on several considerations including:\n",
      "• Cruise drag\n",
      "• Stalling speed and ﬁeld length requirements\n",
      "• Wing structural weight\n",
      "• Fuel volume\n",
      "These considerations often lead to a wing with the smallest area allowed by the constraints.\n",
      "portation Beyond 2000: Technologies Needed for Engineering Design, pages 331–370, September\n",
      "1998.\n",
      "B. Malone and W.H. Mason. Multidisciplinary optimization in aircraft design using analytic tech-\n",
      "nology models. Journal of Aircraft, 32(2):431–438, mar-apr 1995. doi:10.2514/3.46734.\n",
      "W. H. Mason. Analytic models for technology integration in aircraft design. In AIAA/AH-\n",
      "S/ASEE Aircraft Design, Systems and Operations Conference, Dayton, OH, September 1990.\n",
      "doi:10.2514/6.1990-3262. AIAA 1990-3262.\n",
      "Daniel P. Raymer.Aircraft Design: A Conceptual Approach. AIAA, 4th edition, 2006.\n",
      "Michael S Selig, John Francis Donovan, and David B Fraser.Airfoils at low speeds, volume 8. H.A.\n",
      "Stokely, Virginia Beach, Va., USA (1504 Horseshoe Cir., Virginia Beach 23451), 1989.\n",
      "Joram G. Verstraeten and Ronald Slingerland. Drag characteristics for optimally span-loaded\n",
      "planar, wingletted, and C wings.Journal of Aircraft, 46(3):962–971, 2009.\n",
      "AE481 Aircraft Design—J.R.R.A. Martins 59 Sunday 17 th October, 2021 at 06:26\n",
      "• Airfoil shape(s)\n",
      "• Twist\n",
      "• Tip shape\n",
      "In this section, we will discuss the e↵ect that each of these variables has on drag, structural weight,\n",
      "etc., before describing a procedure for performing the actual design. Some of these parameters are\n",
      "illustrated in Fig.6.1.\n",
      "422 PAR T 3 • Airplane Design \n",
      "Disadvantages: \n",
      "I. The heavy engine is at the back, which shifts the center of gravity rearward, \n",
      "hence reducing longitudinal stability. \n",
      "2. Propeller is more likely to be damaged by flying debris at landing. \n",
      "3. Engine cooling problems are more severe. \n",
      "The Wright Flyer was a pusher aircraft (Fig. 1.3). However, over the past century \n",
      "of airplane design, the tractor configuration has been the prevalent choice. Because \n",
      "we have a rather large, powerful reciprocating engine for our aiplane design, we wish \n",
      "to minimize any engine cooling problems. Therefore, we will be traditional and \n",
      "choose the tractor configuration.\n"
     ]
    }
   ],
   "source": [
    "retriever_setup = RetrievalAgent()\n",
    "retriever_output = retriever_setup.execute_task(f\"\"\"Here is the rewritten optimization problem: {reformulator_output}\"\"\")\n",
    "print(retriever_output[\"Retrieved_Information\"])\n",
    "\n",
    "# Run the RAG retriever\n",
    "RAG_chunks = run_retriever(retriever_output[\"Retrieved_Information\"])\n",
    "\n",
    "# Pass all the retrived chunks page_content into a single string\n",
    "retrieved_chunks = \"\\n\".join([chunk.page_content for chunk in RAG_chunks])\n",
    "print(retrieved_chunks)"
   ]
  },
  {
   "cell_type": "code",
   "execution_count": 18,
   "metadata": {},
   "outputs": [],
   "source": [
    "# Optimization Setup\n",
    "error_gen_flag = False\n",
    "while not error_gen_flag:\n",
    "    ResultsPrompt  = f\"\"\"The initial problem by the user is: {User_Request}, the reformulated problem is: {reformulator_output}, and the optimization results are as follows: {optimizer_output}, here is some retrieved information: {RAG_chunks}\"\"\"\n",
    "    results_setup = ResultsReaderAgent()\n",
    "    results_output = results_setup.execute_task(ResultsPrompt)\n",
    "\n",
    "    if results_output is not None:\n",
    "        error_gen_flag = True\n"
   ]
  },
  {
   "cell_type": "code",
   "execution_count": 19,
   "metadata": {},
   "outputs": [
    {
     "data": {
      "text/plain": [
       "{'Analysis': 'The optimization run failed to meet the CL=2.0 constraint, as the final CL value was 0.796, significantly lower than the target. The optimization aimed to minimize CD, but the final CD value is quite high at 11.836. The lift distribution plot shows that it is not elliptical, which is expected for drag minimization. Additionally, the twist distribution seems constant, which may not be optimal for achieving the target CL while minimizing drag. The taper ratio is at the lower bound, and the sweep is at 14.5 degrees.',\n",
       " 'Recommendations': '1.  **Increase Max Iterations:** Increase `maxiter` because the solver is having trouble converging.\\n2.  **Constraint Scaling:** Ensure that the constraint is properly scaled to avoid numerical issues. A small change in the constraint value may lead to a large change in the objective function and may cause the solver to fail.\\n3.  **Revise Bounds:** Review and revise the bounds for design variables. For instance, the lower bound for taper may be too restrictive.  Consider a wider range for twist as well.\\n4.  **Consider Different Optimization Algorithms:** SLSQP might not be the most suitable algorithm for this problem. Try other gradient-based algorithms or gradient-free algorithms, such as genetic algorithms.\\n5.  **Refine Mesh:**  The vortex lattice method is sensitive to mesh resolution.  Increase the number of spanwise and chordwise panels for a more accurate solution. Since the wing area is fixed and the span is fixed, the chord will be changed as the optimization is running, and this can lead to some weird geometry. Consider making the chord a design variable too to have more control over the geometry.',\n",
       " 'Optimization Performance': \"The optimization failed after 474 iterations. The computational time was quick (10 seconds). The exit status was 'FAIL', indicating that the optimization did not converge to a feasible solution. Given the failure to converge with SLSQP, exploring other optimization algorithms or using a higher tolerance may be necessary.\",\n",
       " 'Unrelated Observations': 'The problem definition fixes the wing area and span while allowing taper, twist, and sweep to vary. Fixing both wing area and span constrains the aspect ratio. While varying taper, twist, and sweep can influence the lift distribution and drag, the fixed aspect ratio limits the optimization potential. Manufacturability of the optimized wing should be considered. Large twist angles or very low taper ratios may lead to impractical designs. The twist distribution is constant, this is a characteristic of how the variables are being parameterized. The twist is a constant variable across the span, so it is not physically realistic.'}"
      ]
     },
     "execution_count": 19,
     "metadata": {},
     "output_type": "execute_result"
    }
   ],
   "source": [
    "results_output"
   ]
  },
  {
   "cell_type": "code",
   "execution_count": 21,
   "metadata": {},
   "outputs": [],
   "source": [
    "error_gen_flag = False\n",
    "while not error_gen_flag:\n",
    "    ReportPrompt  = f\"\"\"The initial problem by the user is: {User_Request}, the reformulated problem is: {reformulator_output}, the analysis by the LLM is {results_output}\"\"\"\n",
    "\n",
    "    report_setup = ReportWriter()\n",
    "    report_output = report_setup.execute_task(ReportPrompt)\n",
    "\n",
    "    if report_output is not None and report_output.get(\"ReportText\") is not None:\n",
    "        error_gen_flag = True"
   ]
  },
  {
   "cell_type": "code",
   "execution_count": 22,
   "metadata": {},
   "outputs": [],
   "source": [
    "#Write the latex output into /Users/conan/Desktop/LLM_Aerospace_Research/LLM_OpenAeroStruct/Figures/Report.tex and replace the original file.\n",
    "\n",
    "report_file = \"Figures/Report.tex\"\n",
    "with open(report_file, \"w\") as file:\n",
    "    file.write(report_output[\"ReportText\"])"
   ]
  }
 ],
 "metadata": {
  "kernelspec": {
   "display_name": "openaerostruct-llm-agent (3.13.2)",
   "language": "python",
   "name": "python3"
  },
  "language_info": {
   "codemirror_mode": {
    "name": "ipython",
    "version": 3
   },
   "file_extension": ".py",
   "mimetype": "text/x-python",
   "name": "python",
   "nbconvert_exporter": "python",
   "pygments_lexer": "ipython3",
   "version": "3.13.2"
  }
 },
 "nbformat": 4,
 "nbformat_minor": 2
}
