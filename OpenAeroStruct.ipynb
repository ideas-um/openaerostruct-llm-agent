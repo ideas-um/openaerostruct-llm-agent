{
 "cells": [
  {
   "cell_type": "markdown",
   "metadata": {},
   "source": [
    "### LLM OpenAeroStruct"
   ]
  },
  {
   "cell_type": "markdown",
   "metadata": {},
   "source": [
    "#### A multiagent tool to write optimization code for OpenAeroStruct with simply high level inputs from the user, i.e. I want to design a sweeped rectangular wing with elliptical lift distribution"
   ]
  },
  {
   "cell_type": "code",
   "execution_count": 1,
   "metadata": {},
   "outputs": [],
   "source": [
    "# Import the generative ai library\n",
    "import google.generativeai as genai #type: ignore\n",
    "\n",
    "# Import all the modules necessary to run OpenAeroStruct and paths\n",
    "import re\n",
    "import time\n",
    "import os\n",
    "import subprocess\n",
    "import warnings\n",
    "import numpy as np\n",
    "import pandas as pd #type: ignore\n",
    "import openmdao.api as om\n",
    "import json\n",
    "\n",
    "# import OpenAeroStruct modules\n",
    "from openaerostruct.geometry.utils import generate_mesh  # helper functions to generate mesh\n",
    "from openaerostruct.geometry.geometry_group import Geometry\n",
    "from openaerostruct.aerodynamics.aero_groups import AeroPoint\n",
    "\n",
    "# Import the plotting libraries\n",
    "import matplotlib.pyplot as plt\n",
    "#import plotly.graph_objects as go\n",
    "import niceplots  # Optional but recommended\n",
    "\n",
    "#Ignore warnings and use the nice plots style\n",
    "warnings.filterwarnings(\"ignore\")\n",
    "\n",
    "plt.style.use(\n",
    "    niceplots.get_style(\"james-dark\")\n",
    ")  # Options: \"doumont-light\", \"doumont-dark\", \"james-light\", \"james-dark\""
   ]
  },
  {
   "cell_type": "code",
   "execution_count": 2,
   "metadata": {},
   "outputs": [],
   "source": [
    "#Import the relevant agents\n",
    "from Agents import ReformulatorAgent\n",
    "from Agents import BaseMeshAgent\n",
    "from Agents import GeometryAgent\n",
    "from Agents import OptimizerAgent\n",
    "from Agents import ResultsReaderAgent\n",
    "from Agents import ReportWriter\n",
    "from Agents import RetrievalAgent\n",
    "from RAG_Retrieval import run_retriever"
   ]
  },
  {
   "cell_type": "code",
   "execution_count": 3,
   "metadata": {},
   "outputs": [
    {
     "data": {
      "text/plain": [
       "'HERE ARE SOME BACKUP PROMPTS'"
      ]
     },
     "execution_count": 3,
     "metadata": {},
     "output_type": "execute_result"
    }
   ],
   "source": [
    "# Define the initial sample query from the user.\n",
    "User_Request = \"\"\"For this design, we will keep the area at S = 100 m2. The span is b = 10 m. The cruise condition corresponds to CL = 2.0. Your job is to minimize drag at the condition of CL = 2.0 and you have complete freedom in the taper, twist, and sweep of the wing. Make a plot of the elliptical lift distribution.\"\"\"\n",
    "\n",
    "\"\"\"HERE ARE SOME BACKUP PROMPTS\"\"\"\n",
    "#User_Request  = \"\"\"For this design, we will keep the area constant at S = 400 m2. The span is b = 60 m. The cruise condition corresponds to CL = 0.5. Your job is to minimize drag at the condition of CL = 0.5 and you have complete freedom in the taper and sweep of the wing. Make a plot of the elliptical lift distribution.\"\"\"\n",
    "#User_Request  = \"\"\"For this design, we will keep the area constant at S = 400 m2. The span is b = 60 m. The cruise condition corresponds to CL = 0.5. Your job is to minimize drag at the condition of CL = 0.5 and you have complete freedom in the taper, twist, and sweep of the wing. Make a plot of the elliptical lift distribution.\"\"\"\n",
    "#User_Request  = \"\"\"For this design, we will keep the area at S = 100 m2. The span is b = 10 m. The cruise condition corresponds to CL = 2.0. Your job is to minimize drag at the condition of CL = 2.0 and you have complete freedom in the taper, twist, and sweep of the wing. Make a plot of the elliptical lift distribution.\"\"\"\n",
    "#User_Request = \"\"\"For this design, we will keep the area constant at S = 400 m2. The span is b = 60 m. The cruise condition corresponds to CL = 0.5. Your job is to minimize drag at the condition of CL = 0.5 and you have complete freedom in the taper, dihedral, twist, and sweep of the wing. Make a plot of the elliptical lift distribution.\"\"\""
   ]
  },
  {
   "cell_type": "code",
   "execution_count": 4,
   "metadata": {},
   "outputs": [],
   "source": [
    "error_gen_flag = False\n",
    "while not error_gen_flag:\n",
    "    reformulator = ReformulatorAgent()\n",
    "    reformulator_output = reformulator.execute_task(User_Request)\n",
    "\n",
    "    if reformulator_output is not None:\n",
    "        error_gen_flag = True"
   ]
  },
  {
   "cell_type": "code",
   "execution_count": 5,
   "metadata": {},
   "outputs": [
    {
     "name": "stdout",
     "output_type": "stream",
     "text": [
      "Reformulator Output:\n",
      "{'objective_function': 'Minimize drag', 'trim_condition': 'CL = 2.0', 'geometric_constraint': 'Wing area (S) = 100 m^2, Span (b) = 10 m', 'design_variables': 'Taper, twist, and sweep', 'baseline_wing_mesh': 'Rectangular mesh', 'optimization_algorithm': 'SLSQP', 'plotting_requirements': 'Plot of the elliptical lift distribution', 'errors': 'None'}\n"
     ]
    }
   ],
   "source": [
    "print(\"Reformulator Output:\")\n",
    "print(reformulator_output)"
   ]
  },
  {
   "cell_type": "markdown",
   "metadata": {},
   "source": [
    "#### Now start writing the file into RunOAS to prepare for the optimization and plotting script using LLM."
   ]
  },
  {
   "cell_type": "code",
   "execution_count": 6,
   "metadata": {},
   "outputs": [],
   "source": [
    "#Write the mesh prompt\n",
    "error_gen_flag = False\n",
    "while not error_gen_flag:\n",
    "    MeshPrompt  = f\"\"\"For this wing desgin, the geometric parameters are as follows: {reformulator_output[\"geometric_constraint\"]}, and the type of the wing mesh should be: {reformulator_output[\"baseline_wing_mesh\"]}\"\"\"\n",
    "    mesher = BaseMeshAgent()\n",
    "    mesher_output = mesher.execute_task(MeshPrompt)\n",
    "\n",
    "    if mesher_output[\"python_code\"] is not None:\n",
    "        error_gen_flag = True"
   ]
  },
  {
   "cell_type": "code",
   "execution_count": 7,
   "metadata": {},
   "outputs": [
    {
     "name": "stdout",
     "output_type": "stream",
     "text": [
      "mesh_dict = {\n",
      "    \"num_y\": 19, #number of panels in the y direction, 19 is a good starting number\n",
      "    \"num_x\": 3, #number of panels in the x direction, 3 is a good starting number\n",
      "    \"wing_type\": \"rect\", #This can either be \"rect\" or \"crm\" only\n",
      "    \"symmetry\": True, # True if the wing is symmetric, False if it is not, wings are typically symmetric\n",
      "    \"span\": 10.0, #This is the full span of the wing in meters\n",
      "    \"root_chord\": 10.0, #This is the root chord of the wing in meters\n",
      "    \"span_cos_spacing\": 0.0, #This is usually not edited\n",
      "    \"chord_cos_spacing\": 0.0, #This is usually not edited\n",
      "}\n",
      "\n",
      "# Generate VLM mesh for half-wing\n",
      "mesh = generate_mesh(mesh_dict)   # this creates a rectangular wing mesh, DO NOT EDIT THIS LINE\n",
      "\n",
      "# plot mesh\n",
      "plot_mesh(mesh)  #this plots the rectangular wing mesh, DO NOT EDIT THIS LINE\n",
      "{'calculations_and_explain': 'The problem requires creating a rectangular wing mesh with a given wing area and span. The number of sections in the x and y directions are 3 and 19 respectively. To create this mesh, first, the root chord length needs to be calculated. Since the wing area (S) = 100 m^2 and span (b) = 10 m, for a rectangular wing,  root_chord = area / span = 100 / 10 = 10 m. After computing the root chord, the mesh can be generated using the parameters for a rectangular wing.', 'python_code': 'mesh_dict = {\\n    \"num_y\": 19, #number of panels in the y direction, 19 is a good starting number\\n    \"num_x\": 3, #number of panels in the x direction, 3 is a good starting number\\n    \"wing_type\": \"rect\", #This can either be \"rect\" or \"crm\" only\\n    \"symmetry\": True, # True if the wing is symmetric, False if it is not, wings are typically symmetric\\n    \"span\": 10.0, #This is the full span of the wing in meters\\n    \"root_chord\": 10.0, #This is the root chord of the wing in meters\\n    \"span_cos_spacing\": 0.0, #This is usually not edited\\n    \"chord_cos_spacing\": 0.0, #This is usually not edited\\n}\\n\\n# Generate VLM mesh for half-wing\\nmesh = generate_mesh(mesh_dict)   # this creates a rectangular wing mesh, DO NOT EDIT THIS LINE\\n\\n# plot mesh\\nplot_mesh(mesh)  #this plots the rectangular wing mesh, DO NOT EDIT THIS LINE'}\n"
     ]
    }
   ],
   "source": [
    "print(mesher_output[\"python_code\"])\n",
    "print(mesher_output)"
   ]
  },
  {
   "cell_type": "code",
   "execution_count": 8,
   "metadata": {},
   "outputs": [],
   "source": [
    "#Geometry Setup\n",
    "error_gen_flag = False\n",
    "while not error_gen_flag:\n",
    "    GeometryPrompt  = f\"\"\"For this wing desgin, we are allowed to change the following parameters: {reformulator_output[\"design_variables\"]}\"\"\"\n",
    "    geometry_setup = GeometryAgent()\n",
    "    geometry_output = geometry_setup.execute_task(GeometryPrompt)\n",
    "\n",
    "    if geometry_output[\"python_code\"] is not None:\n",
    "        error_gen_flag = True"
   ]
  },
  {
   "cell_type": "code",
   "execution_count": 9,
   "metadata": {},
   "outputs": [
    {
     "name": "stdout",
     "output_type": "stream",
     "text": [
      "surface = {\n",
      "    # Wing definition, KEEP THE SAME UNLESS ASKED TO CHANGE\n",
      "    \"name\": \"wing\",  # name of the surface, keep as wing\n",
      "    \"symmetry\": True,  # if true, model one half of wing reflected across the plane y = 0\n",
      "    \"S_ref_type\": \"wetted\",  # how we compute the wing area, can be 'wetted' or 'projected'\n",
      "    \"mesh\": mesh,\n",
      "\n",
      "    # Aerodynamic performance of the lifting surface at an angle of attack of 0 (alpha=0).\n",
      "    # These CL0 and CD0 values are added to the CL and CD obtained from aerodynamic analysis of the surface to get the total CL and CD.\n",
      "    # These CL0 and CD0 values do not vary wrt alpha. DO NOT EDIT THEM UNLESS ASKED TO.\n",
      "    \"CL0\": 0.0,  # CL of the surface at alpha=0\n",
      "    \"CD0\": 0.0,  # CD of the surface at alpha=0\n",
      "\n",
      "    # Airfoil properties for viscous drag calculation, DO NOT CHANGE UNLESS ASKED TO\n",
      "    \"k_lam\": 0.05,  # percentage of chord with laminar flow, used for viscous drag\n",
      "    \"c_max_t\": 0.303,  # chordwise location of maximum (NACA0015)\n",
      "    \"t_over_c_cp\": np.array([0.12]),  # thickness-to-chord ratio\n",
      "\n",
      "    # DO NOT CHANGE UNLESS ASKED TO, type of analysis, wave for high mach number, viscous to model viscous drag\n",
      "    \"with_viscous\": True,  # if true, compute viscous drag,\n",
      "    \"with_wave\": False,\n",
      "\n",
      "    # Useful options for changing the wing geometry, CHANGE THESE\n",
      "    #\"chord_cp\": np.ones(3),  # if chord cp is allowed to be optimized, uncomment this line and change the value for how many points for the bspline to change the chord, default is 3\n",
      "    \"taper\" : 0.4, # if the wing can be tapered, uncomment this line and change the initial value for how much taper, default is 0.4\n",
      "    \"sweep\" : 28.0, # if the wing can be swept, uncomment this line and change the initial value for how much sweep, default is 28.0\n",
      "    #\"dihedral\": 3.0, # if the wing has dihedral, uncomment this line and change the initial value for how much dihedral, default is 3.0\n",
      "    \"twist_cp\" : np.zeros(2),  # if the wing can be twisted, uncomment this line and change the value for how many points for the bspline to change the twist, default is 4\n",
      "}  # end of surface dictionary\n",
      "{'calculations_and_explain': \"The problem asks me to create a wing geometry in OpenAeroStruct, where taper, sweep, and twist are design variables. I need to uncomment those lines in the original surface dictionary and assign initial values. I'm keeping other values the same, as I'm not asked to change them. \\n\\n1.  Uncommented the `taper` line and set its initial value to `0.4`.\\n2.  Uncommented the `sweep` line and set its initial value to `28.0`.\\n3.  Uncommented the `twist_cp` line and set its initial values to `np.zeros(2)`.\\n\", 'python_code': 'surface = {\\n    # Wing definition, KEEP THE SAME UNLESS ASKED TO CHANGE\\n    \"name\": \"wing\",  # name of the surface, keep as wing\\n    \"symmetry\": True,  # if true, model one half of wing reflected across the plane y = 0\\n    \"S_ref_type\": \"wetted\",  # how we compute the wing area, can be \\'wetted\\' or \\'projected\\'\\n    \"mesh\": mesh,\\n\\n    # Aerodynamic performance of the lifting surface at an angle of attack of 0 (alpha=0).\\n    # These CL0 and CD0 values are added to the CL and CD obtained from aerodynamic analysis of the surface to get the total CL and CD.\\n    # These CL0 and CD0 values do not vary wrt alpha. DO NOT EDIT THEM UNLESS ASKED TO.\\n    \"CL0\": 0.0,  # CL of the surface at alpha=0\\n    \"CD0\": 0.0,  # CD of the surface at alpha=0\\n\\n    # Airfoil properties for viscous drag calculation, DO NOT CHANGE UNLESS ASKED TO\\n    \"k_lam\": 0.05,  # percentage of chord with laminar flow, used for viscous drag\\n    \"c_max_t\": 0.303,  # chordwise location of maximum (NACA0015)\\n    \"t_over_c_cp\": np.array([0.12]),  # thickness-to-chord ratio\\n\\n    # DO NOT CHANGE UNLESS ASKED TO, type of analysis, wave for high mach number, viscous to model viscous drag\\n    \"with_viscous\": True,  # if true, compute viscous drag,\\n    \"with_wave\": False,\\n\\n    # Useful options for changing the wing geometry, CHANGE THESE\\n    #\"chord_cp\": np.ones(3),  # if chord cp is allowed to be optimized, uncomment this line and change the value for how many points for the bspline to change the chord, default is 3\\n    \"taper\" : 0.4, # if the wing can be tapered, uncomment this line and change the initial value for how much taper, default is 0.4\\n    \"sweep\" : 28.0, # if the wing can be swept, uncomment this line and change the initial value for how much sweep, default is 28.0\\n    #\"dihedral\": 3.0, # if the wing has dihedral, uncomment this line and change the initial value for how much dihedral, default is 3.0\\n    \"twist_cp\" : np.zeros(2),  # if the wing can be twisted, uncomment this line and change the value for how many points for the bspline to change the twist, default is 4\\n}  # end of surface dictionary'}\n"
     ]
    }
   ],
   "source": [
    "print(geometry_output[\"python_code\"])\n",
    "print(geometry_output)"
   ]
  },
  {
   "cell_type": "code",
   "execution_count": 10,
   "metadata": {},
   "outputs": [],
   "source": [
    "# Optimization Setup\n",
    "error_gen_flag = False\n",
    "while not error_gen_flag:\n",
    "    OptimizerPrompt  = f\"\"\"For this wing desgin, the optimization parameters are as follows: {reformulator_output[\"design_variables\"]}, the objective function is {reformulator_output[\"objective_function\"]}, the geometric constraints are {reformulator_output[\"geometric_constraint\"]}, the flight condition is {reformulator_output[\"trim_condition\"]}, and the optimization algorithm is {reformulator_output[\"optimization_algorithm\"]}\"\"\"\n",
    "    optimizer_setup = OptimizerAgent()\n",
    "    optimizer_output = optimizer_setup.execute_task(OptimizerPrompt)\n",
    "\n",
    "    if optimizer_output[\"python_code\"] is not None:\n",
    "        error_gen_flag = True"
   ]
  },
  {
   "cell_type": "code",
   "execution_count": 11,
   "metadata": {},
   "outputs": [
    {
     "name": "stdout",
     "output_type": "stream",
     "text": [
      "# Instantiate the problem and the model group\n",
      "prob = om.Problem()\n",
      "\n",
      "# Define flight conditions\n",
      "Mach_number = 0.5 # You can change this if the user specifies a different Mach number\n",
      "rho = 1.225\n",
      "v = Mach_number * 340  # freestream speed, m/s\n",
      "Re_c = rho * v / 1.81e-5  # Reynolds number / characteristic length, 1/m\n",
      "\n",
      "indep_var_comp = om.IndepVarComp()\n",
      "indep_var_comp.add_output(\"v\", val=v, units=\"m/s\")  # Freestream Velocity\n",
      "indep_var_comp.add_output(\n",
      "    \"alpha\", val=0.0, units=\"deg\"\n",
      ") \n",
      "indep_var_comp.add_output(\"Mach_number\", val=Mach_number)  # Freestream Mach number\n",
      "indep_var_comp.add_output(\"re\", val=Re_c, units=\"1/m\")  # Freestream Reynolds number times chord length\n",
      "indep_var_comp.add_output(\"rho\", val=rho, units=\"kg/m**3\")  # Freestream air density\n",
      "indep_var_comp.add_output(\"cg\", val=np.zeros((3)), units=\"m\")  # Aircraft center of gravity\n",
      "prob.model.add_subsystem(\"flight_vars\", indep_var_comp, promotes=[\"*\"])\n",
      "\n",
      "# Setup OpenAeroStruct model\n",
      "name = surface[\"name\"]\n",
      "\n",
      "# Add geometry group to the problem and add wing suface as a sub group.\n",
      "# These groups are responsible for manipulating the geometry of the mesh, in this case spanwise twist.\n",
      "geom_group = Geometry(surface=surface)\n",
      "prob.model.add_subsystem(name, geom_group)\n",
      "\n",
      "# Create the aero point group for this flight condition and add it to the model\n",
      "aero_group = AeroPoint(surfaces=[surface], rotational=True)\n",
      "point_name = \"flight_condition_0\"\n",
      "prob.model.add_subsystem(\n",
      "    point_name,\n",
      "    aero_group,\n",
      "    promotes_inputs=[\n",
      "        \"v\",\n",
      "        \"alpha\",\n",
      "        \"beta\",\n",
      "        \"omega\",\n",
      "        \"Mach_number\",\n",
      "        \"re\",\n",
      "        \"rho\",\n",
      "        \"cg\",\n",
      "    ],\n",
      ")\n",
      "\n",
      "# Connect the mesh from the geometry component to the analysis point\n",
      "prob.model.connect(name + \".mesh\", point_name + \".\" + name + \".def_mesh\")\n",
      "\n",
      "# Perform the connections with the modified names within the 'aero_states' group.\n",
      "prob.model.connect(name + \".mesh\", point_name + \".aero_states.\" + name + \"_def_mesh\")\n",
      "\n",
      "# Connect the parameters within the model for each aero point\n",
      "prob.model.connect(name + \".t_over_c\", point_name + \".\" + name + \"_perf.\" + \"t_over_c\")\n",
      "\n",
      "########## THIS IS THE PART TO EDIT ##########\n",
      "#If the variables are not specified, you can comment them out, you can also change the upper and lower bounds.\n",
      "#You are also allowed to add the design varaibles, constraints, and objectives here like chord_cp, twist_cp, taper, sweep, dihedral etc.\n",
      "#The way to add them is wing.\"var_name\" (for example, wing.taper) and the lower and upper bounds are in the form of lower=0.0, upper=1.0\n",
      "#these are the var names that you can use taper = taper, sweep = sweep, chord_cp = chord_cp, twist_cp = twist_cp, dihedral = dihedral\n",
      "#remember to add alpha as a design variable if CL is a constraint. \n",
      "#DO NOT ADD THE AREA AND SPAN CONSTRAINTS HERE AS THEY DO NOT WORK YET.\n",
      "\n",
      "prob.model.add_design_var('wing.taper', lower=0.2, upper=1.0)  # Varies the taper ratio\n",
      "prob.model.add_design_var('wing.twist_cp', lower=-10.0, upper=10.0, units='deg') # Varies the twist\n",
      "prob.model.add_design_var('wing.sweep', lower=10.0, upper=30.0, units='deg')  # Vary the sweep angle\n",
      "prob.model.add_design_var('alpha', units='deg', lower=0., upper=10.)   # varies\n",
      "prob.model.add_constraint('flight_condition_0.wing_perf.CL', equals=2.0)   # impose CL = 2.0, where x is a number\n",
      "prob.model.add_objective('flight_condition_0.wing_perf.CD', ref=0.01)   # dummy objective to minimize CD.\n",
      "############# THIS END OF THE PART TO EDIT ##########\n",
      "\n",
      "# use Scipy's SLSQP optimization\n",
      "prob.driver = om.ScipyOptimizeDriver()\n",
      "\n",
      "# record optimization history\n",
      "recorder = om.SqliteRecorder(\"aero.db\")\n",
      "prob.driver.add_recorder(recorder)\n",
      "prob.driver.recording_options[\"includes\"] = [\"*\"]\n",
      "\n",
      "prob.setup()\n",
      "prob.run_driver()\n",
      "\n",
      "#print results\n",
      "print(\"\\nAngle of attack =\", prob.get_val(\"alpha\", units=\"deg\")[0], \"deg\")\n",
      "print(\"CL = \", prob.get_val(\"flight_condition_0.wing_perf.CL\")[0])\n",
      "print(\"CD = \", prob.get_val(\"flight_condition_0.wing_perf.CD\")[0])\n",
      "{'calculations_and_explain': 'The user wants to optimize a wing design using OpenAeroStruct. The design variables are taper, twist (twist_cp), and sweep. The objective is to minimize drag (CD), with a lift coefficient (CL) constraint of 2.0. The optimization algorithm to be used is SLSQP. The explanation focuses on the changes made to the original script to incorporate these requirements. I removed the constraints for area and semispan since they are not working. I added twist_cp as a design variable and also sweep. Since the lift coefficient is a constraint, alpha (angle of attack) needs to be added as a design variable.', 'python_code': '# Instantiate the problem and the model group\\nprob = om.Problem()\\n\\n# Define flight conditions\\nMach_number = 0.5 # You can change this if the user specifies a different Mach number\\nrho = 1.225\\nv = Mach_number * 340  # freestream speed, m/s\\nRe_c = rho * v / 1.81e-5  # Reynolds number / characteristic length, 1/m\\n\\nindep_var_comp = om.IndepVarComp()\\nindep_var_comp.add_output(\"v\", val=v, units=\"m/s\")  # Freestream Velocity\\nindep_var_comp.add_output(\\n    \"alpha\", val=0.0, units=\"deg\"\\n) \\nindep_var_comp.add_output(\"Mach_number\", val=Mach_number)  # Freestream Mach number\\nindep_var_comp.add_output(\"re\", val=Re_c, units=\"1/m\")  # Freestream Reynolds number times chord length\\nindep_var_comp.add_output(\"rho\", val=rho, units=\"kg/m**3\")  # Freestream air density\\nindep_var_comp.add_output(\"cg\", val=np.zeros((3)), units=\"m\")  # Aircraft center of gravity\\nprob.model.add_subsystem(\"flight_vars\", indep_var_comp, promotes=[\"*\"])\\n\\n# Setup OpenAeroStruct model\\nname = surface[\"name\"]\\n\\n# Add geometry group to the problem and add wing suface as a sub group.\\n# These groups are responsible for manipulating the geometry of the mesh, in this case spanwise twist.\\ngeom_group = Geometry(surface=surface)\\nprob.model.add_subsystem(name, geom_group)\\n\\n# Create the aero point group for this flight condition and add it to the model\\naero_group = AeroPoint(surfaces=[surface], rotational=True)\\npoint_name = \"flight_condition_0\"\\nprob.model.add_subsystem(\\n    point_name,\\n    aero_group,\\n    promotes_inputs=[\\n        \"v\",\\n        \"alpha\",\\n        \"beta\",\\n        \"omega\",\\n        \"Mach_number\",\\n        \"re\",\\n        \"rho\",\\n        \"cg\",\\n    ],\\n)\\n\\n# Connect the mesh from the geometry component to the analysis point\\nprob.model.connect(name + \".mesh\", point_name + \".\" + name + \".def_mesh\")\\n\\n# Perform the connections with the modified names within the \\'aero_states\\' group.\\nprob.model.connect(name + \".mesh\", point_name + \".aero_states.\" + name + \"_def_mesh\")\\n\\n# Connect the parameters within the model for each aero point\\nprob.model.connect(name + \".t_over_c\", point_name + \".\" + name + \"_perf.\" + \"t_over_c\")\\n\\n########## THIS IS THE PART TO EDIT ##########\\n#If the variables are not specified, you can comment them out, you can also change the upper and lower bounds.\\n#You are also allowed to add the design varaibles, constraints, and objectives here like chord_cp, twist_cp, taper, sweep, dihedral etc.\\n#The way to add them is wing.\"var_name\" (for example, wing.taper) and the lower and upper bounds are in the form of lower=0.0, upper=1.0\\n#these are the var names that you can use taper = taper, sweep = sweep, chord_cp = chord_cp, twist_cp = twist_cp, dihedral = dihedral\\n#remember to add alpha as a design variable if CL is a constraint. \\n#DO NOT ADD THE AREA AND SPAN CONSTRAINTS HERE AS THEY DO NOT WORK YET.\\n\\nprob.model.add_design_var(\\'wing.taper\\', lower=0.2, upper=1.0)  # Varies the taper ratio\\nprob.model.add_design_var(\\'wing.twist_cp\\', lower=-10.0, upper=10.0, units=\\'deg\\') # Varies the twist\\nprob.model.add_design_var(\\'wing.sweep\\', lower=10.0, upper=30.0, units=\\'deg\\')  # Vary the sweep angle\\nprob.model.add_design_var(\\'alpha\\', units=\\'deg\\', lower=0., upper=10.)   # varies\\nprob.model.add_constraint(\\'flight_condition_0.wing_perf.CL\\', equals=2.0)   # impose CL = 2.0, where x is a number\\nprob.model.add_objective(\\'flight_condition_0.wing_perf.CD\\', ref=0.01)   # dummy objective to minimize CD.\\n############# THIS END OF THE PART TO EDIT ##########\\n\\n# use Scipy\\'s SLSQP optimization\\nprob.driver = om.ScipyOptimizeDriver()\\n\\n# record optimization history\\nrecorder = om.SqliteRecorder(\"aero.db\")\\nprob.driver.add_recorder(recorder)\\nprob.driver.recording_options[\"includes\"] = [\"*\"]\\n\\nprob.setup()\\nprob.run_driver()\\n\\n#print results\\nprint(\"\\\\nAngle of attack =\", prob.get_val(\"alpha\", units=\"deg\")[0], \"deg\")\\nprint(\"CL = \", prob.get_val(\"flight_condition_0.wing_perf.CL\")[0])\\nprint(\"CD = \", prob.get_val(\"flight_condition_0.wing_perf.CD\")[0])'}\n"
     ]
    }
   ],
   "source": [
    "print(optimizer_output[\"python_code\"])\n",
    "print(optimizer_output)"
   ]
  },
  {
   "cell_type": "code",
   "execution_count": 12,
   "metadata": {},
   "outputs": [
    {
     "name": "stdout",
     "output_type": "stream",
     "text": [
      "Created RunOAS.py file with all generated code sections\n"
     ]
    }
   ],
   "source": [
    "#Write the chunks of code into the template file and run it\n",
    "template_file = \"RunOAS_template.py\"\n",
    "\n",
    "#It should then find \"\"\"Part 1: PUT THE BASELINE MESH OF THE WING HERE\"\"\" then add print(\"hi\") after it\n",
    "with open(template_file, \"r\") as file:\n",
    "    template_code = file.read()\n",
    "    \n",
    "    # Replace all placeholders with the generated code\n",
    "    template_code = template_code.replace(\n",
    "        '\"\"\"Part 1: PUT THE BASELINE MESH OF THE WING HERE\"\"\"',\n",
    "        f'\"\"\"Part 1: PUT THE BASELINE MESH OF THE WING HERE\"\"\"\\n{mesher_output[\"python_code\"]}'\n",
    "    )\n",
    "    template_code = template_code.replace(\n",
    "        '\"\"\"Part 2:  DO THE GEOMETRY SETUP HERE\"\"\"',\n",
    "        f'\"\"\"Part 2:  DO THE GEOMETRY SETUP HERE\"\"\"\\n{geometry_output[\"python_code\"]}'\n",
    "    )\n",
    "    template_code = template_code.replace(\n",
    "        '\"\"\"Part 3: PUT THE OPTIMIZER HERE \"\"\"',\n",
    "        f'\"\"\"Part 3: PUT THE OPTIMIZER HERE \"\"\"\\n{optimizer_output[\"python_code\"]}'\n",
    "    )\n",
    "\n",
    "# Write the modified code to a new file instead of modifying the template\n",
    "run_oas_file = \"RunOAS.py\"\n",
    "with open(run_oas_file, \"w\") as file:\n",
    "    file.write(template_code)\n",
    "\n",
    "print(\"Created RunOAS.py file with all generated code sections\")"
   ]
  },
  {
   "cell_type": "code",
   "execution_count": 13,
   "metadata": {},
   "outputs": [],
   "source": [
    "# Now run the script using a subprocess, also capture all the outputs, and save it as a text file.\n",
    "output_file = \"output.txt\"\n",
    "with open(output_file, \"w\") as file:\n",
    "    # Run the script and capture the output\n",
    "    process = subprocess.Popen([\"python3\", run_oas_file], stdout=subprocess.PIPE, stderr=subprocess.PIPE)\n",
    "    stdout, stderr = process.communicate()\n",
    "\n",
    "    # Decode the output and write it to the file\n",
    "    file.write(stdout.decode())\n",
    "    file.write(stderr.decode())"
   ]
  },
  {
   "cell_type": "markdown",
   "metadata": {},
   "source": [
    "### After Running the Optimization, the LLM should then have access to the plots then analyze the results"
   ]
  },
  {
   "cell_type": "code",
   "execution_count": 14,
   "metadata": {},
   "outputs": [
    {
     "name": "stdout",
     "output_type": "stream",
     "text": [
      "Converting HTML report to PDF...\n",
      "Successfully converted to PDF: ./Figures/Opt_History.pdf\n"
     ]
    }
   ],
   "source": [
    "HTML_Report = \"RunOAS_out/reports/opt_report.html\"\n",
    "pdf_output_path = \"./Figures/Opt_History.pdf\"\n",
    "\n",
    "# Convert HTML report to PDF using pandoc\n",
    "try:\n",
    "    # Check if the HTML file exists\n",
    "    if not os.path.exists(HTML_Report):\n",
    "        print(f\"Error: HTML report not found at {HTML_Report}\")\n",
    "    else:\n",
    "        print(\"Converting HTML report to PDF...\")\n",
    "        # Use subprocess to call pandoc for the conversion\n",
    "        result = subprocess.run(\n",
    "            [\n",
    "                \"pandoc\", HTML_Report,\n",
    "                \"-o\", pdf_output_path,\n",
    "                \"--pdf-engine=/Library/TeX/texbin/pdflatex\",\n",
    "                \"-V\", \"geometry:landscape,a4paper\",  # Landscape + specific paper size\n",
    "                \"-V\", \"geometry:margin=5mm\",        # Reduce margins\n",
    "                \"-V\", \"geometry:includeheadfoot\",    # Use full page area\n",
    "                \"--variable\", \"mainfont=Helvetica\",  # More compact font\n",
    "                \"--variable\", \"fontsize=5pt\"        # Smaller base font size\n",
    "            ],\n",
    "            capture_output=True,\n",
    "            text=True\n",
    "        )\n",
    "        \n",
    "        if result.returncode == 0:\n",
    "            print(f\"Successfully converted to PDF: {pdf_output_path}\")\n",
    "        else:\n",
    "            print(f\"Error converting to PDF: {result.stderr}\")\n",
    "except Exception as e:\n",
    "    print(f\"An error occurred: {str(e)}\")"
   ]
  },
  {
   "cell_type": "code",
   "execution_count": 15,
   "metadata": {},
   "outputs": [
    {
     "name": "stdout",
     "output_type": "stream",
     "text": [
      "\n"
     ]
    }
   ],
   "source": [
    "def run_plot_wing(file_path):\n",
    "    \"\"\"\n",
    "    Execute the plot_wing command on a specified aero.db file\n",
    "    \n",
    "    Args:\n",
    "        file_path (str): Path to the aero.db file\n",
    "    \"\"\"\n",
    "    if not os.path.exists(file_path):\n",
    "        print(f\"Error: File '{file_path}' does not exist.\")\n",
    "        return\n",
    "        \n",
    "    try:\n",
    "        # Run plot_wing command and capture output\n",
    "        result = subprocess.run([\"plot_wing\", file_path], \n",
    "                               capture_output=True, \n",
    "                               text=True, \n",
    "                               check=True)\n",
    "        print(result.stdout)\n",
    "    except subprocess.CalledProcessError as e:\n",
    "        print(f\"Command failed with error code {e.returncode}\")\n",
    "        print(f\"Error message: {e.stderr}\")\n",
    "    except FileNotFoundError:\n",
    "        print(\"Error: 'plot_wing' command not found. Please ensure it's installed and in your PATH and follow the changes to the plot_wing function shown in readme.\")\n",
    "\n",
    "# Example usage\n",
    "file_path = \"RunOAS_out/aero.db\"\n",
    "run_plot_wing(file_path)"
   ]
  },
  {
   "cell_type": "code",
   "execution_count": 16,
   "metadata": {},
   "outputs": [
    {
     "name": "stdout",
     "output_type": "stream",
     "text": [
      "Please provide information for the following variables used in aerodynamic wing optimization: Taper ratio, Twist angle, Sweep angle, Lift Coefficient (CL), Wing Area (S), and Wing Span (b). Include definitions, typical ranges, and their influence on aerodynamic performance, particularly drag.\n",
      "structural design and the engine performance as well as the aircraft aerodynamics. The bestCL\n",
      "for the wing is not the best for the aircraft as a whole. An example of this is seen by considering a\n",
      "ﬁxed CL, ﬁxed Mach design. If we ﬂy higher, the wing area must be increased by the wing drag is\n",
      "nearly constant. The fuselage drag decreases, though; so we can minimize drag by ﬂying very high\n",
      "with very large wings. This is not feasible because of considerations such as engine performance.\n",
      "Aspect ratio is directly related to the wing area and wing span and is deﬁned as:\n",
      "AR = b2\n",
      "Sref\n",
      ", (6.1)\n",
      "where Sref should be the same as the one used in the deﬁnition ofCL and CD.\n",
      "AE481 Aircraft Design—J.R.R.A. Martins 60 Sunday 17 th October, 2021 at 06:26\n",
      "1. The optimum is quite ﬂat and one must stretch the span a great deal to reach the actual\n",
      "optimum.\n",
      "2. As span is increases, so does wing bending which can negatively a↵ect stability and ﬂutter\n",
      "characteristics.\n",
      "3. The cost of the wing itself increases as the structural weight increases.\n",
      "4. The volume of the wing in which fuel can be stored is reduced.\n",
      "5. It becomes more di\u0000cult to locate the main landing gear at the root of the wing.\n",
      "6. The Reynolds number of wing sections is reduced, increasing parasite drag and reducing\n",
      "7. Span might be restricted by the infrastructure (airport gates, hangars) maximum lift capa-\n",
      "bility.\n",
      "6.1.2 Area\n",
      "The wing area, like the span, is chosen based on several considerations including:\n",
      "• Cruise drag\n",
      "• Stalling speed and ﬁeld length requirements\n",
      "• Wing structural weight\n",
      "• Fuel volume\n",
      "These considerations often lead to a wing with the smallest area allowed by the constraints.\n",
      "portation Beyond 2000: Technologies Needed for Engineering Design, pages 331–370, September\n",
      "1998.\n",
      "B. Malone and W.H. Mason. Multidisciplinary optimization in aircraft design using analytic tech-\n",
      "nology models. Journal of Aircraft, 32(2):431–438, mar-apr 1995. doi:10.2514/3.46734.\n",
      "W. H. Mason. Analytic models for technology integration in aircraft design. In AIAA/AH-\n",
      "S/ASEE Aircraft Design, Systems and Operations Conference, Dayton, OH, September 1990.\n",
      "doi:10.2514/6.1990-3262. AIAA 1990-3262.\n",
      "Daniel P. Raymer.Aircraft Design: A Conceptual Approach. AIAA, 4th edition, 2006.\n",
      "Michael S Selig, John Francis Donovan, and David B Fraser.Airfoils at low speeds, volume 8. H.A.\n",
      "Stokely, Virginia Beach, Va., USA (1504 Horseshoe Cir., Virginia Beach 23451), 1989.\n",
      "Joram G. Verstraeten and Ronald Slingerland. Drag characteristics for optimally span-loaded\n",
      "planar, wingletted, and C wings.Journal of Aircraft, 46(3):962–971, 2009.\n",
      "The latter approach is only viable when the designer has enough experience to know what consti-\n",
      "tutes a desirable lift distribution. The ﬁrst approach is often combined with numerical optimization.\n",
      "Wing lift distribution is an important consideration in wing design. The spanwise lift distribu-\n",
      "tion is closely related to the wing geometry and determines wing performance characteristics such\n",
      "as induced drag, structural weight, and stalling characteristics. A reasonable lift andCl distribution\n",
      "provides a good starting point in the design of a wing.\n",
      "6.1 Wing Design Parameters\n",
      "The major wing design parameters can be divided into two levels. The ﬁrst level design parameters\n",
      "are generally more inﬂuential and should be determined ﬁrst. They are:\n",
      "• Span\n",
      "• Area\n",
      "• Thickness\n",
      "• Sweep\n",
      "The second level design parameters are important, but they can be determined at a later stage\n",
      "because the trade-o↵s between the ﬁrst level design parameters and the rest of the aircraft are\n",
      "therefore must be a fundamental consideration at the early stages of wing design. Unfortunately\n",
      "the estimation ofCLmax is one of the more di\u0000cult parts of the preliminary design process.\n",
      "6.3 Winglets and Other Nonplanar Wings\n",
      "Increasing the wing span redistributes the spanwise vorticity such that induced drag is reduced.\n",
      "Winglets have a similar e↵ect.\n",
      "However, when the wing-winglet combination is optimized for minimum drag at ﬁxed span, it\n",
      "achieves about the same drag as a planar wing with a span increased by about 45% of the winglet\n",
      "height.\n",
      "The same approach may be taken for general nonplanar wake shapes. The ﬁgure below sum-\n",
      "marizes some of these results.\n",
      "Several points should be made about the preceding results:\n",
      "• The result that the sidewash on the winglet is zero for minimum induced drag means that the\n",
      "self-induced drag of the winglet just cancels the winglet thrust associated with wing sidewash.\n"
     ]
    }
   ],
   "source": [
    "retriever_setup = RetrievalAgent()\n",
    "retriever_output = retriever_setup.execute_task(f\"\"\"Here is the rewritten optimization problem: {reformulator_output}\"\"\")\n",
    "print(retriever_output[\"Retrieved_Information\"])\n",
    "\n",
    "# Run the RAG retriever\n",
    "RAG_chunks = run_retriever(retriever_output[\"Retrieved_Information\"])\n",
    "\n",
    "# Pass all the retrived chunks page_content into a single string\n",
    "retrieved_chunks = \"\\n\".join([chunk.page_content for chunk in RAG_chunks])\n",
    "print(retrieved_chunks)"
   ]
  },
  {
   "cell_type": "code",
   "execution_count": 17,
   "metadata": {},
   "outputs": [],
   "source": [
    "# Optimization Setup\n",
    "error_gen_flag = False\n",
    "while not error_gen_flag:\n",
    "    ResultsPrompt  = f\"\"\"The initial problem by the user is: {User_Request}, the reformulated problem is: {reformulator_output}, and the optimization results are as follows: {optimizer_output}, here is some retrieved information: {RAG_chunks}\"\"\"\n",
    "    results_setup = ResultsReaderAgent()\n",
    "    results_output = results_setup.execute_task(ResultsPrompt)\n",
    "\n",
    "    if results_output is not None:\n",
    "        error_gen_flag = True\n"
   ]
  },
  {
   "cell_type": "code",
   "execution_count": 18,
   "metadata": {},
   "outputs": [
    {
     "data": {
      "text/plain": [
       "{'Analysis': 'The optimization aimed to minimize drag (CD) while maintaining a lift coefficient (CL) of 2.0. The design variables were taper, twist, sweep, and angle of attack (alpha). The optimization failed, and the exit status in the report shows \"FAIL\". The value of CD at the end of the iterations is 6.77573231, which is likely a result of the optimization failing to converge properly. The optimizer settings indicate that the optimization ran for 30 iterations. The plot shows the twist and lift distributions; the lift distribution is not yet truly elliptical. The lift distribution has a high peak in the center, so the optimization isn\\'t close to the ideal elliptic lift distribution.',\n",
       " 'Recommendations': '1.  Investigate why the optimization failed: Review the optimization setup for potential issues, such as conflicting constraints or poorly scaled design variables.\\n2.  Adjust optimization parameters: Experiment with different values for tolerance (`tol`) and maximum iterations (`maxiter`) to promote convergence. Consider using a more robust optimization algorithm or a global optimization approach.\\n3.  Refine design variable bounds: Review and adjust the bounds for taper, twist, and sweep. Ensure these bounds are physically reasonable and do not overly restrict the design space.\\n4.  Check the gradients and sensitivities: Make sure the sensitivities are well calculated. If not, then the optimization will likely fail.\\n5.  Increase mesh fidelity: A denser mesh can provide more accurate aerodynamic results, potentially leading to a better-optimized design. However, this will increase computational cost.\\n6.  Validate VLM assumptions: VLM has limitations, particularly for complex geometries or high-Mach conditions. For higher fidelity, consider using higher fidelity solvers. ',\n",
       " 'Optimization Performance': 'The optimization ran for 30 iterations, with an exit status of \"FAIL\", which means that the optimization did not converge within the specified number of iterations. The wall clock run time was minimal (less than a second). However, the lack of convergence is a significant issue, implying that either the problem setup or the optimization algorithm needs refinement. Consider using a gradient-free optimization method like a genetic algorithm or particle swarm optimization to explore the design space more effectively, especially if the gradient information is noisy or unreliable.',\n",
       " 'Unrelated Observations': 'The report indicates that area and semispan constraints were removed because they were not working. This issue needs to be addressed, as fixing the wing area is part of the problem statement. Implement the wing area constraint so that it is working.'}"
      ]
     },
     "execution_count": 18,
     "metadata": {},
     "output_type": "execute_result"
    }
   ],
   "source": [
    "results_output"
   ]
  },
  {
   "cell_type": "code",
   "execution_count": 19,
   "metadata": {},
   "outputs": [],
   "source": [
    "error_gen_flag = False\n",
    "while not error_gen_flag:\n",
    "    ReportPrompt  = f\"\"\"The initial problem by the user is: {User_Request}, the reformulated problem is: {reformulator_output}, the analysis by the LLM is {results_output}\"\"\"\n",
    "\n",
    "    report_setup = ReportWriter()\n",
    "    report_output = report_setup.execute_task(ReportPrompt)\n",
    "\n",
    "    if report_output is not None and report_output.get(\"ReportText\") is not None:\n",
    "        error_gen_flag = True"
   ]
  },
  {
   "cell_type": "code",
   "execution_count": 20,
   "metadata": {},
   "outputs": [],
   "source": [
    "#Write the latex output into /Users/conan/Desktop/LLM_Aerospace_Research/LLM_OpenAeroStruct/Figures/Report.tex and replace the original file.\n",
    "\n",
    "report_file = \"Figures/Report.tex\"\n",
    "with open(report_file, \"w\") as file:\n",
    "    file.write(report_output[\"ReportText\"])"
   ]
  }
 ],
 "metadata": {
  "kernelspec": {
   "display_name": "openaerostruct-llm-agent (3.13.2)",
   "language": "python",
   "name": "python3"
  },
  "language_info": {
   "codemirror_mode": {
    "name": "ipython",
    "version": 3
   },
   "file_extension": ".py",
   "mimetype": "text/x-python",
   "name": "python",
   "nbconvert_exporter": "python",
   "pygments_lexer": "ipython3",
   "version": "3.13.2"
  }
 },
 "nbformat": 4,
 "nbformat_minor": 2
}
