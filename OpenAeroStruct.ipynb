{
 "cells": [
  {
   "cell_type": "markdown",
   "metadata": {},
   "source": [
    "### LLM OpenAeroStruct"
   ]
  },
  {
   "cell_type": "markdown",
   "metadata": {},
   "source": [
    "#### A multiagent tool to write optimization code for OpenAeroStruct with simply high level inputs from the user, i.e. I want to design a sweeped rectangular wing with elliptical lift distribution"
   ]
  },
  {
   "cell_type": "code",
   "execution_count": null,
   "metadata": {},
   "outputs": [],
   "source": [
    "# Import the generative ai library\n",
    "import google.generativeai as genai #type: ignore\n",
    "\n",
    "# Import all the modules necessary to run OpenAeroStruct\n",
    "import re\n",
    "import time\n",
    "import os\n",
    "import subprocess\n",
    "import warnings\n",
    "import numpy as np\n",
    "import pandas as pd #type: ignore\n",
    "import openmdao.api as om\n",
    "import json\n",
    "\n",
    "# import OpenAeroStruct modules\n",
    "from openaerostruct.geometry.utils import generate_mesh  # helper functions to generate mesh\n",
    "from openaerostruct.geometry.geometry_group import Geometry\n",
    "from openaerostruct.aerodynamics.aero_groups import AeroPoint\n",
    "\n",
    "# Import the plotting libraries\n",
    "import matplotlib.pyplot as plt\n",
    "import plotly.graph_objects as go\n",
    "import niceplots  # Optional but recommended\n",
    "\n",
    "#Ignore warnings and use the nice plots style\n",
    "warnings.filterwarnings(\"ignore\")\n",
    "\n",
    "plt.style.use(\n",
    "    niceplots.get_style(\"james-dark\")\n",
    ")  # Options: \"doumont-light\", \"doumont-dark\", \"james-light\", \"james-dark\""
   ]
  },
  {
   "cell_type": "code",
   "execution_count": null,
   "metadata": {},
   "outputs": [],
   "source": [
    "#Import the relevant agents\n",
    "from Agents import ReformulatorAgent\n",
    "from Agents import BaseMeshAgent\n",
    "from Agents import GeometryAgent\n",
    "from Agents import OptimizerAgent\n",
    "from Agents import ResultsReaderAgent\n",
    "from Agents import ReportWriter"
   ]
  },
  {
   "cell_type": "code",
   "execution_count": null,
   "metadata": {},
   "outputs": [],
   "source": [
    "# Define the initial sample query from the user.\n",
    "User_Request  = \"\"\"For this design, we will keep the area constant at S = 400 m2. The span is b = 60 m. The cruise condition corresponds to CL = 0.5. Your job is to minimize drag at the condition of CL = 0.5 and you have complete freedom in the taper, twist, and sweep of the wing. Make a plot of the elliptical lift distribution.\"\"\"\n",
    "\n",
    "\"\"\"HERE ARE SOME BACKUP PROMPTS\"\"\"\n",
    "#User_Request  = \"\"\"For this design, we will keep the area constant at S = 400 m2. The span is b = 60 m. The cruise condition corresponds to CL = 0.5. Your job is to minimize drag at the condition of CL = 0.5 and you have complete freedom in the taper and sweep of the wing. Make a plot of the elliptical lift distribution.\"\"\"\n",
    "#User_Request  = \"\"\"For this design, we will keep the area constant at S = 400 m2. The span is b = 60 m. The cruise condition corresponds to CL = 0.5. Your job is to minimize drag at the condition of CL = 0.5 and you have complete freedom in the taper, twist, and sweep of the wing. Make a plot of the elliptical lift distribution.\"\"\"\n",
    "#User_Request  = \"\"\"For this design, we will keep the area at S = 100 m2. The span is b = 10 m. The cruise condition corresponds to CL = 2.0. Your job is to minimize drag at the condition of CL = 2.0 and you have complete freedom in the taper, twist, and sweep of the wing. Make a plot of the elliptical lift distribution.\"\"\"\n",
    "\n",
    "reformulator = ReformulatorAgent()\n",
    "reformulator_output = reformulator.execute_task(User_Request)"
   ]
  },
  {
   "cell_type": "code",
   "execution_count": null,
   "metadata": {},
   "outputs": [],
   "source": [
    "print(\"Reformulator Output:\")\n",
    "print(reformulator_output)"
   ]
  },
  {
   "cell_type": "markdown",
   "metadata": {},
   "source": [
    "#### Now start writing the file into RunOAS to prepare for the optimization and plotting script using LLM."
   ]
  },
  {
   "cell_type": "code",
   "execution_count": null,
   "metadata": {},
   "outputs": [],
   "source": [
    "#Write the mesh prompt\n",
    "\n",
    "MeshPrompt  = f\"\"\"For this wing desgin, the geometric parameters are as follows: {reformulator_output[\"geometric_constraint\"]}, and the type of the wing mesh should be: {reformulator_output[\"baseline_wing_mesh\"]}\"\"\"\n",
    "\n",
    "mesher = BaseMeshAgent()\n",
    "mesher_output = mesher.execute_task(MeshPrompt)"
   ]
  },
  {
   "cell_type": "code",
   "execution_count": null,
   "metadata": {},
   "outputs": [],
   "source": [
    "print(mesher_output[\"python_code\"])\n",
    "print(mesher_output)"
   ]
  },
  {
   "cell_type": "code",
   "execution_count": null,
   "metadata": {},
   "outputs": [],
   "source": [
    "#Geometry Setup\n",
    "GeometryPrompt  = f\"\"\"For this wing desgin, we are allowed to change the following parameters: {reformulator_output[\"design_variables\"]}\"\"\"\n",
    "\n",
    "geometry_setup = GeometryAgent()\n",
    "geometry_output = geometry_setup.execute_task(GeometryPrompt)"
   ]
  },
  {
   "cell_type": "code",
   "execution_count": null,
   "metadata": {},
   "outputs": [],
   "source": [
    "print(geometry_output[\"python_code\"])\n",
    "print(geometry_output)"
   ]
  },
  {
   "cell_type": "code",
   "execution_count": null,
   "metadata": {},
   "outputs": [],
   "source": [
    "# Optimization Setup\n",
    "OptimizerPrompt  = f\"\"\"For this wing desgin, the optimization parameters are as follows: {reformulator_output[\"design_variables\"]}, the objective function is {reformulator_output[\"objective_function\"]}, the geometric constraints are {reformulator_output[\"geometric_constraint\"]}, the flight condition is {reformulator_output[\"trim_condition\"]}, and the optimization algorithm is {reformulator_output[\"optimization_algorithm\"]}\"\"\"\n",
    "\n",
    "optimizer_setup = OptimizerAgent()\n",
    "optimizer_output = optimizer_setup.execute_task(OptimizerPrompt)"
   ]
  },
  {
   "cell_type": "code",
   "execution_count": null,
   "metadata": {},
   "outputs": [],
   "source": [
    "print(optimizer_output[\"python_code\"])\n",
    "print(optimizer_output)"
   ]
  },
  {
   "cell_type": "code",
   "execution_count": null,
   "metadata": {},
   "outputs": [],
   "source": [
    "#Write the chunks of code into the template file and run it\n",
    "template_file = \"/Users/conan/Desktop/LLM_Aerospace_Research/LLM_OpenAeroStruct/RunOAS_template.py\"\n",
    "\n",
    "#It should then find \"\"\"Part 1: PUT THE BASELINE MESH OF THE WING HERE\"\"\" then add print(\"hi\") after it\n",
    "with open(template_file, \"r\") as file:\n",
    "    template_code = file.read()\n",
    "    \n",
    "    # Replace all placeholders with the generated code\n",
    "    template_code = template_code.replace(\n",
    "        '\"\"\"Part 1: PUT THE BASELINE MESH OF THE WING HERE\"\"\"',\n",
    "        f'\"\"\"Part 1: PUT THE BASELINE MESH OF THE WING HERE\"\"\"\\n{mesher_output[\"python_code\"]}'\n",
    "    )\n",
    "    template_code = template_code.replace(\n",
    "        '\"\"\"Part 2:  DO THE GEOMETRY SETUP HERE\"\"\"',\n",
    "        f'\"\"\"Part 2:  DO THE GEOMETRY SETUP HERE\"\"\"\\n{geometry_output[\"python_code\"]}'\n",
    "    )\n",
    "    template_code = template_code.replace(\n",
    "        '\"\"\"Part 3: PUT THE OPTIMIZER HERE \"\"\"',\n",
    "        f'\"\"\"Part 3: PUT THE OPTIMIZER HERE \"\"\"\\n{optimizer_output[\"python_code\"]}'\n",
    "    )\n",
    "\n",
    "# Write the modified code to a new file instead of modifying the template\n",
    "run_oas_file = \"/Users/conan/Desktop/LLM_Aerospace_Research/LLM_OpenAeroStruct/RunOAS.py\"\n",
    "with open(run_oas_file, \"w\") as file:\n",
    "    file.write(template_code)\n",
    "\n",
    "print(\"Created RunOAS.py file with all generated code sections\")"
   ]
  },
  {
   "cell_type": "code",
   "execution_count": null,
   "metadata": {},
   "outputs": [],
   "source": [
    "# Now run the script using a subprocess, also capture all the outputs, and save it as a text file.\n",
    "output_file = \"/Users/conan/Desktop/LLM_Aerospace_Research/LLM_OpenAeroStruct/output.txt\"\n",
    "with open(output_file, \"w\") as file:\n",
    "    # Run the script and capture the output\n",
    "    process = subprocess.Popen([\"python3\", run_oas_file], stdout=subprocess.PIPE, stderr=subprocess.PIPE)\n",
    "    stdout, stderr = process.communicate()\n",
    "\n",
    "    # Decode the output and write it to the file\n",
    "    file.write(stdout.decode())\n",
    "    file.write(stderr.decode())"
   ]
  },
  {
   "cell_type": "markdown",
   "metadata": {},
   "source": [
    "### After Running the Optimization, the LLM should then have access to the plots then analyze the results"
   ]
  },
  {
   "cell_type": "code",
   "execution_count": null,
   "metadata": {},
   "outputs": [],
   "source": [
    "HTML_Report = \"/Users/conan/Desktop/LLM_Aerospace_Research/LLM_OpenAeroStruct/RunOAS_out/reports/opt_report.html\"\n",
    "pdf_output_path = \"/Users/conan/Desktop/LLM_Aerospace_Research/LLM_OpenAeroStruct/Figures/Opt_History.pdf\"\n",
    "\n",
    "# Convert HTML report to PDF using pandoc\n",
    "try:\n",
    "    # Check if the HTML file exists\n",
    "    if not os.path.exists(HTML_Report):\n",
    "        print(f\"Error: HTML report not found at {HTML_Report}\")\n",
    "    else:\n",
    "        print(\"Converting HTML report to PDF...\")\n",
    "        # Use subprocess to call pandoc for the conversion\n",
    "        result = subprocess.run(\n",
    "            [\n",
    "                \"pandoc\", HTML_Report,\n",
    "                \"-o\", pdf_output_path,\n",
    "                \"--pdf-engine=/Library/TeX/texbin/pdflatex\",\n",
    "                \"-V\", \"geometry:landscape,a4paper\",  # Landscape + specific paper size\n",
    "                \"-V\", \"geometry:margin=5mm\",        # Reduce margins\n",
    "                \"-V\", \"geometry:includeheadfoot\",    # Use full page area\n",
    "                \"--variable\", \"mainfont=Helvetica\",  # More compact font\n",
    "                \"--variable\", \"fontsize=5pt\"        # Smaller base font size\n",
    "            ],\n",
    "            capture_output=True,\n",
    "            text=True\n",
    "        )\n",
    "        \n",
    "        if result.returncode == 0:\n",
    "            print(f\"Successfully converted to PDF: {pdf_output_path}\")\n",
    "        else:\n",
    "            print(f\"Error converting to PDF: {result.stderr}\")\n",
    "except Exception as e:\n",
    "    print(f\"An error occurred: {str(e)}\")"
   ]
  },
  {
   "cell_type": "code",
   "execution_count": null,
   "metadata": {},
   "outputs": [],
   "source": [
    "def run_plot_wing(file_path):\n",
    "    \"\"\"\n",
    "    Execute the plot_wing command on a specified aero.db file\n",
    "    \n",
    "    Args:\n",
    "        file_path (str): Path to the aero.db file\n",
    "    \"\"\"\n",
    "    if not os.path.exists(file_path):\n",
    "        print(f\"Error: File '{file_path}' does not exist.\")\n",
    "        return\n",
    "        \n",
    "    try:\n",
    "        # Run plot_wing command and capture output\n",
    "        result = subprocess.run([\"plot_wing\", file_path], \n",
    "                               capture_output=True, \n",
    "                               text=True, \n",
    "                               check=True)\n",
    "        print(result.stdout)\n",
    "    except subprocess.CalledProcessError as e:\n",
    "        print(f\"Command failed with error code {e.returncode}\")\n",
    "        print(f\"Error message: {e.stderr}\")\n",
    "    except FileNotFoundError:\n",
    "        print(\"Error: 'plot_wing' command not found. Please ensure it's installed and in your PATH.\")\n",
    "\n",
    "# Example usage\n",
    "file_path = \"/Users/conan/Desktop/LLM_Aerospace_Research/LLM_OpenAeroStruct/RunOAS_out/aero.db\"\n",
    "run_plot_wing(file_path)"
   ]
  },
  {
   "cell_type": "code",
   "execution_count": null,
   "metadata": {},
   "outputs": [],
   "source": [
    "#Analyze the results without RAG#\n",
    "#Geometry Setup\n",
    "ResultsPrompt  = f\"\"\"The initial problem by the user is: {User_Request}, the reformulated problem is: {reformulator_output}\"\"\"\n",
    "\n",
    "results_setup = ResultsReaderAgent()\n",
    "results_output = results_setup.execute_task(ResultsPrompt)"
   ]
  },
  {
   "cell_type": "code",
   "execution_count": null,
   "metadata": {},
   "outputs": [],
   "source": [
    "results_output"
   ]
  },
  {
   "cell_type": "code",
   "execution_count": null,
   "metadata": {},
   "outputs": [],
   "source": [
    "#Analyze the results without RAG#\n",
    "#Geometry Setup\n",
    "ReportPrompt  = f\"\"\"The initial problem by the user is: {User_Request}, the reformulated problem is: {reformulator_output}, the analysis by the LLM is {results_output}\"\"\"\n",
    "\n",
    "report_setup = ReportWriter()\n",
    "report_output = report_setup.execute_task(ReportPrompt)"
   ]
  },
  {
   "cell_type": "code",
   "execution_count": null,
   "metadata": {},
   "outputs": [],
   "source": [
    "#Write the latex output into /Users/conan/Desktop/LLM_Aerospace_Research/LLM_OpenAeroStruct/Figures/Report.tex and replace the original file.\n",
    "\n",
    "report_file = \"/Users/conan/Desktop/LLM_Aerospace_Research/LLM_OpenAeroStruct/Figures/Report.tex\"\n",
    "with open(report_file, \"w\") as file:\n",
    "    file.write(report_output[\"ReportText\"])"
   ]
  }
 ],
 "metadata": {
  "kernelspec": {
   "display_name": ".venv",
   "language": "python",
   "name": "python3"
  },
  "language_info": {
   "codemirror_mode": {
    "name": "ipython",
    "version": 3
   },
   "file_extension": ".py",
   "mimetype": "text/x-python",
   "name": "python",
   "nbconvert_exporter": "python",
   "pygments_lexer": "ipython3",
   "version": "3.13.2"
  }
 },
 "nbformat": 4,
 "nbformat_minor": 2
}
